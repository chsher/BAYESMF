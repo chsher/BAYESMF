{
 "cells": [
  {
   "cell_type": "code",
   "execution_count": 1,
   "metadata": {},
   "outputs": [],
   "source": [
    "import os\n",
    "import sys\n",
    "import pickle\n",
    "import numpy as np\n",
    "from sklearn.metrics import mean_squared_error\n",
    "\n",
    "sys.path.append(os.path.dirname(os.path.dirname(os.getcwd())))\n",
    "from bayesmf.scripts.utils.model import run_kfold_xval\n",
    "from bayesmf.scripts.utils.dataset import make_insilico_dataset, make_downsampled_dataset\n",
    "from bayesmf.models.cmf import CMF, StochasticCMF\n",
    "\n",
    "%reload_ext autoreload\n",
    "%autoreload 2"
   ]
  },
  {
   "cell_type": "code",
   "execution_count": 2,
   "metadata": {},
   "outputs": [],
   "source": [
    "DIR_PATH = '/home/sxchao/bayesmf/output'\n",
    "handle = 'scmf_050720'"
   ]
  },
  {
   "cell_type": "code",
   "execution_count": 57,
   "metadata": {},
   "outputs": [],
   "source": [
    "X, _ = make_insilico_dataset()"
   ]
  },
  {
   "cell_type": "code",
   "execution_count": 58,
   "metadata": {},
   "outputs": [],
   "source": [
    "np.random.seed(22690)\n",
    "\n",
    "idxs = np.arange(X.shape[1])\n",
    "np.random.shuffle(idxs)\n",
    "\n",
    "#X_train = X[:, idxs[:800]]\n",
    "#X_test = X[:, idxs[800:]]\n",
    "\n",
    "kfold = 5\n",
    "splits = np.split(idxs, kfold)"
   ]
  },
  {
   "cell_type": "code",
   "execution_count": null,
   "metadata": {
    "scrolled": true
   },
   "outputs": [],
   "source": [
    "K = 10\n",
    "errs10 = []\n",
    "\n",
    "for k in range(kfold):\n",
    "    idxs_train = [i for j in np.setdiff1d(np.arange(kfold), k) for i in splits[j]]\n",
    "    idxs_test = splits[k]\n",
    "    X_train = X[:, idxs_train]\n",
    "    X_test = X[:, idxs_test]\n",
    "    \n",
    "    factorizer = StochasticCMF(K=K, m=K-5, minibatch_size=200, step_size=1e-05, tolerance=0.001, max_iters=10, kwargs={'c0':0.05 * X.shape[0]})\n",
    "    factorizer.fit(X_train)\n",
    "    l = factorizer.transform(X_test, attr='l') \n",
    "    W = np.exp(factorizer.alpha[np.newaxis, :] + np.dot(l, factorizer.u.T)).T \n",
    "    H = factorizer.Eb.T\n",
    "        \n",
    "    err = mean_squared_error(X_test.T, np.matmul(W, H), squared=False)\n",
    "    print(err)\n",
    "    errs10.append(err)"
   ]
  },
  {
   "cell_type": "code",
   "execution_count": null,
   "metadata": {
    "scrolled": true
   },
   "outputs": [],
   "source": [
    "K = 15\n",
    "errs15 = []\n",
    "\n",
    "for k in range(kfold):\n",
    "    idxs_train = [i for j in np.setdiff1d(np.arange(kfold), k) for i in splits[j]]\n",
    "    idxs_test = splits[k]\n",
    "    X_train = X[:, idxs_train]\n",
    "    X_test = X[:, idxs_test]\n",
    "\n",
    "    factorizer = StochasticCMF(K=K, m=K-5, step_size=1e-05, tolerance=0.001, max_iters=10, kwargs={'c0':0.05 * X.shape[0]})\n",
    "    factorizer.fit(X_train)\n",
    "    l = factorizer.transform(X_test, attr='l') \n",
    "    W = np.exp(factorizer.alpha[np.newaxis, :] + np.dot(l, factorizer.u.T)).T \n",
    "    H = factorizer.Eb.T\n",
    "\n",
    "    err = mean_squared_error(X_test.T, np.matmul(W, H), squared=False)\n",
    "    print(err)\n",
    "    errs15.append(err)"
   ]
  },
  {
   "cell_type": "code",
   "execution_count": null,
   "metadata": {
    "scrolled": true
   },
   "outputs": [],
   "source": [
    "K = 20\n",
    "errs20 = []\n",
    "\n",
    "for k in range(kfold):\n",
    "    idxs_train = [i for j in np.setdiff1d(np.arange(kfold), k) for i in splits[j]]\n",
    "    idxs_test = splits[k]\n",
    "    X_train = X[:, idxs_train]\n",
    "    X_test = X[:, idxs_test]\n",
    "\n",
    "    factorizer = StochasticCMF(K=K, m=K-5, step_size=1e-05, tolerance=0.001, max_iters=10, kwargs={'c0':0.05 * X.shape[0]})\n",
    "    factorizer.fit(X_train)\n",
    "    l = factorizer.transform(X_test, attr='l') \n",
    "    W = np.exp(factorizer.alpha[np.newaxis, :] + np.dot(l, factorizer.u.T)).T \n",
    "    H = factorizer.Eb.T\n",
    "\n",
    "    err = mean_squared_error(X_test.T, np.matmul(W, H), squared=False)\n",
    "    print(err)\n",
    "    errs20.append(err)"
   ]
  },
  {
   "cell_type": "code",
   "execution_count": 41,
   "metadata": {},
   "outputs": [
    {
     "name": "stderr",
     "output_type": "stream",
     "text": [
      "Variable names are not unique. To make them unique, call `.var_names_make_unique`.\n"
     ]
    }
   ],
   "source": [
    "X, _ = make_downsampled_dataset()"
   ]
  },
  {
   "cell_type": "code",
   "execution_count": 42,
   "metadata": {},
   "outputs": [],
   "source": [
    "np.random.seed(22690)\n",
    "\n",
    "idxs = np.arange(X.shape[1])\n",
    "np.random.shuffle(idxs)\n",
    "\n",
    "#X_train = X[:, idxs[:800]]\n",
    "#X_test = X[:, idxs[800:]]\n",
    "\n",
    "kfold = 5\n",
    "splits = np.split(idxs, kfold)"
   ]
  },
  {
   "cell_type": "code",
   "execution_count": null,
   "metadata": {
    "scrolled": true
   },
   "outputs": [],
   "source": [
    "K = 10\n",
    "derrs10 = []\n",
    "\n",
    "for k in range(kfold):\n",
    "    idxs_train = [i for j in np.setdiff1d(np.arange(kfold), k) for i in splits[j]]\n",
    "    idxs_test = splits[k]\n",
    "    X_train = X[:, idxs_train]\n",
    "    X_test = X[:, idxs_test]\n",
    "    \n",
    "    factorizer = StochasticCMF(K=K, m=K-5, step_size=1e-05, tolerance=0.001, max_iters=10, init=None, kwargs={'c0':0.05 * X.shape[0]})\n",
    "    factorizer.fit(X_train)\n",
    "    l = factorizer.transform(X_test, attr='l') \n",
    "    W = np.exp(factorizer.alpha[np.newaxis, :] + np.dot(l, factorizer.u.T)).T \n",
    "    H = factorizer.Eb.T\n",
    "        \n",
    "    err = mean_squared_error(X_test.T, np.matmul(W, H), squared=False)\n",
    "    print(err)\n",
    "    derrs10.append(err)"
   ]
  },
  {
   "cell_type": "code",
   "execution_count": null,
   "metadata": {
    "scrolled": true
   },
   "outputs": [],
   "source": [
    "K = 15\n",
    "derrs15 = []\n",
    "\n",
    "for k in range(kfold):\n",
    "    idxs_train = [i for j in np.setdiff1d(np.arange(kfold), k) for i in splits[j]]\n",
    "    idxs_test = splits[k]\n",
    "    X_train = X[:, idxs_train]\n",
    "    X_test = X[:, idxs_test]\n",
    "\n",
    "    factorizer = StochasticCMF(K=K, m=K-5, step_size=1e-05, tolerance=0.001, max_iters=10, init=None, kwargs={'c0':0.05 * X.shape[0]})\n",
    "    factorizer.fit(X_train)\n",
    "    l = factorizer.transform(X_test, attr='l') \n",
    "    W = np.exp(factorizer.alpha[np.newaxis, :] + np.dot(l, factorizer.u.T)).T \n",
    "    H = factorizer.Eb.T\n",
    "\n",
    "    err = mean_squared_error(X_test.T, np.matmul(W, H), squared=False)\n",
    "    print(err)\n",
    "    derrs15.append(err)"
   ]
  },
  {
   "cell_type": "code",
   "execution_count": null,
   "metadata": {
    "scrolled": true
   },
   "outputs": [],
   "source": [
    "K = 20\n",
    "derrs20 = []\n",
    "\n",
    "for k in range(kfold):\n",
    "    idxs_train = [i for j in np.setdiff1d(np.arange(kfold), k) for i in splits[j]]\n",
    "    idxs_test = splits[k]\n",
    "    X_train = X[:, idxs_train]\n",
    "    X_test = X[:, idxs_test]\n",
    "\n",
    "    factorizer = StochasticCMF(K=K, m=K-5, step_size=1e-05, tolerance=0.001, max_iters=10, init=None, kwargs={'c0':0.05 * X.shape[0]})\n",
    "    factorizer.fit(X_train)\n",
    "    l = factorizer.transform(X_test, attr='l') \n",
    "    W = np.exp(factorizer.alpha[np.newaxis, :] + np.dot(l, factorizer.u.T)).T \n",
    "    H = factorizer.Eb.T\n",
    "\n",
    "    err = mean_squared_error(X_test.T, np.matmul(W, H), squared=False)\n",
    "    print(err)\n",
    "    derrs20.append(err)"
   ]
  },
  {
   "cell_type": "code",
   "execution_count": 48,
   "metadata": {},
   "outputs": [
    {
     "name": "stdout",
     "output_type": "stream",
     "text": [
      "1.5734142857619882\n",
      "1.5727257711655738\n",
      "1.5724411292628946\n"
     ]
    }
   ],
   "source": [
    "# init=None\n",
    "for errs in [errs10, errs15, errs20]:\n",
    "    print(np.mean(errs))"
   ]
  },
  {
   "cell_type": "code",
   "execution_count": 49,
   "metadata": {},
   "outputs": [
    {
     "name": "stdout",
     "output_type": "stream",
     "text": [
      "4.300839159962477\n",
      "4.2855199746437\n",
      "4.286197600236283\n"
     ]
    }
   ],
   "source": [
    "# init=None\n",
    "for errs in [derrs10, derrs15, derrs20]:\n",
    "    print(np.mean(errs))"
   ]
  },
  {
   "cell_type": "code",
   "execution_count": null,
   "metadata": {},
   "outputs": [],
   "source": []
  }
 ],
 "metadata": {
  "kernelspec": {
   "display_name": "Python 3",
   "language": "python",
   "name": "python3"
  },
  "language_info": {
   "codemirror_mode": {
    "name": "ipython",
    "version": 3
   },
   "file_extension": ".py",
   "mimetype": "text/x-python",
   "name": "python",
   "nbconvert_exporter": "python",
   "pygments_lexer": "ipython3",
   "version": "3.6.9"
  }
 },
 "nbformat": 4,
 "nbformat_minor": 4
}
