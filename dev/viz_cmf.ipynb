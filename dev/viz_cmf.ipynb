{
 "cells": [
  {
   "cell_type": "code",
   "execution_count": 60,
   "metadata": {},
   "outputs": [
    {
     "name": "stderr",
     "output_type": "stream",
     "text": [
      "Variable names are not unique. To make them unique, call `.var_names_make_unique`.\n",
      "Variable names are not unique. To make them unique, call `.var_names_make_unique`.\n"
     ]
    }
   ],
   "source": [
    "import os\n",
    "import sys\n",
    "import pickle\n",
    "import numpy as np\n",
    "from scipy import stats\n",
    "from sklearn.metrics import mean_squared_error\n",
    "\n",
    "sys.path.append(os.path.dirname(os.path.dirname(os.getcwd())))\n",
    "from bayesmf.scripts.utils.model import run_kfold_xval\n",
    "from bayesmf.scripts.utils.dataset import make_insilico_dataset, make_downsampled_dataset\n",
    "from bayesmf.models.cmf import CMF, StochasticCMF\n",
    "\n",
    "%reload_ext autoreload\n",
    "%autoreload 2\n",
    "\n",
    "import seaborn as sns\n",
    "import matplotlib.pyplot as plt"
   ]
  },
  {
   "cell_type": "code",
   "execution_count": 3,
   "metadata": {},
   "outputs": [
    {
     "name": "stderr",
     "output_type": "stream",
     "text": [
      "Variable names are not unique. To make them unique, call `.var_names_make_unique`.\n"
     ]
    }
   ],
   "source": [
    "X, _ = make_downsampled_dataset()"
   ]
  },
  {
   "cell_type": "code",
   "execution_count": 4,
   "metadata": {},
   "outputs": [
    {
     "name": "stderr",
     "output_type": "stream",
     "text": [
      "/home/sxchao/bayesmf/models/cmf.py:135: RuntimeWarning: invalid value encountered in double_scalars\n",
      "  chg = (elbo_new - elbo_old) / abs(elbo_old)\n"
     ]
    },
    {
     "name": "stdout",
     "output_type": "stream",
     "text": [
      "Iter: 0, Bound: 13616100.94, Change: nan\n",
      "Iter: 1, Bound: 13995948.26, Change: 0.02790\n",
      "Iter: 2, Bound: 13975636.74, Change: -0.00145\n"
     ]
    },
    {
     "data": {
      "text/plain": [
       "CMF(K=15, init='nmf', m=10, max_iters=100, num_steps=1, random_state=22690,\n",
       "    smoothness=100, step_size=1e-05, tolerance=0.0005, verbose=True)"
      ]
     },
     "execution_count": 4,
     "metadata": {},
     "output_type": "execute_result"
    }
   ],
   "source": [
    "factorizer = CMF(K=15, random_state=22690, init='nmf', verbose=True)\n",
    "factorizer.fit(X)"
   ]
  },
  {
   "cell_type": "code",
   "execution_count": 5,
   "metadata": {},
   "outputs": [
    {
     "data": {
      "text/plain": [
       "(15, 10)"
      ]
     },
     "execution_count": 5,
     "metadata": {},
     "output_type": "execute_result"
    }
   ],
   "source": [
    "l = factorizer.l\n",
    "l.shape"
   ]
  },
  {
   "cell_type": "code",
   "execution_count": 53,
   "metadata": {},
   "outputs": [],
   "source": [
    "l = l[idxs, :]\n",
    "a = l / np.linalg.norm(l, axis=1)[:, np.newaxis]"
   ]
  },
  {
   "cell_type": "code",
   "execution_count": 54,
   "metadata": {},
   "outputs": [
    {
     "data": {
      "text/plain": [
       "(15, 15)"
      ]
     },
     "execution_count": 54,
     "metadata": {},
     "output_type": "execute_result"
    }
   ],
   "source": [
    "corr = np.matmul(a ,a.T)\n",
    "corr.shape"
   ]
  },
  {
   "cell_type": "code",
   "execution_count": 35,
   "metadata": {},
   "outputs": [
    {
     "data": {
      "text/plain": [
       "'3.1.1'"
      ]
     },
     "execution_count": 35,
     "metadata": {},
     "output_type": "execute_result"
    }
   ],
   "source": [
    "import matplotlib\n",
    "matplotlib.__version__"
   ]
  },
  {
   "cell_type": "code",
   "execution_count": 55,
   "metadata": {},
   "outputs": [
    {
     "data": {
      "image/png": "[encoded data removed]",
      "text/plain": [
       "<Figure size 432x288 with 2 Axes>"
      ]
     },
     "metadata": {},
     "output_type": "display_data"
    }
   ],
   "source": [
    "ax = sns.heatmap(corr, cmap='coolwarm', linewidths=.5, vmin=0, vmax=1)\n",
    "\n",
    "# fix for mpl bug that cuts off top/bottom of seaborn viz\n",
    "b, t = plt.ylim() # discover the values for bottom and top\n",
    "b += 0.5 # Add 0.5 to the bottom\n",
    "t -= 0.5 # Subtract 0.5 from the top\n",
    "plt.ylim(b, t) # update the ylim(bottom, top) values\n",
    "\n",
    "plt.xlabel('Topic')\n",
    "plt.ylabel('Topic')\n",
    "\n",
    "plt.show() # ta-da!"
   ]
  },
  {
   "cell_type": "code",
   "execution_count": 56,
   "metadata": {},
   "outputs": [
    {
     "data": {
      "image/png": "[encoded data removed]",
      "text/plain": [
       "<Figure size 720x720 with 4 Axes>"
      ]
     },
     "metadata": {},
     "output_type": "display_data"
    }
   ],
   "source": [
    "ax = sns.clustermap(corr, cmap='coolwarm', linewidths=.5, vmin=0, vmax=1)"
   ]
  },
  {
   "cell_type": "code",
   "execution_count": 42,
   "metadata": {},
   "outputs": [],
   "source": [
    "W = np.exp(factorizer.alpha[np.newaxis, :] + np.dot(l, factorizer.u.T)).T # K x D -> D x K\n",
    "H = factorizer.Eb.T"
   ]
  },
  {
   "cell_type": "code",
   "execution_count": 43,
   "metadata": {},
   "outputs": [
    {
     "data": {
      "text/plain": [
       "((1000, 15), (15, 100))"
      ]
     },
     "execution_count": 43,
     "metadata": {},
     "output_type": "execute_result"
    }
   ],
   "source": [
    "W.shape, H.shape"
   ]
  },
  {
   "cell_type": "code",
   "execution_count": 63,
   "metadata": {},
   "outputs": [
    {
     "name": "stderr",
     "output_type": "stream",
     "text": [
      "Variable names are not unique. To make them unique, call `.var_names_make_unique`.\n"
     ]
    }
   ],
   "source": [
    "genes = make_downsampled_dataset(return_genes=True)"
   ]
  },
  {
   "cell_type": "code",
   "execution_count": 72,
   "metadata": {},
   "outputs": [
    {
     "name": "stdout",
     "output_type": "stream",
     "text": [
      "0 Index(['GAPDH', 'RPS14', 'RPS3', 'RPS23', 'NEDD8'], dtype='object')\n",
      "1 Index(['RPS14', 'RPS3', 'RPS23', 'GAPDH', 'NEDD8'], dtype='object')\n",
      "13 Index(['GAPDH', 'ARL6IP1', 'SPOCK2', 'RPS14', 'RPS23'], dtype='object')\n",
      "5 Index(['RPS3', 'RPS14', 'GAPDH', 'CD3D', 'RPS23'], dtype='object')\n",
      "3 Index(['RPS23', 'RPS3', 'GAPDH', 'SUMO2', 'RPS14'], dtype='object')\n",
      "8 Index(['NPM1', 'RPS23', 'RANBP1', 'SUMO2', 'ATP5O'], dtype='object')\n",
      "9 Index(['YBX1', 'HMGN1', 'COX6C', 'GAPDH', 'CDK2AP2'], dtype='object')\n",
      "14 Index(['HMGN1', 'SUMO2', 'GAPDH', 'ATP5I', 'CLIC1'], dtype='object')\n",
      "11 Index(['GAPDH', 'CLIC1', 'UBB', 'SUMO2', 'COX6C'], dtype='object')\n",
      "12 Index(['RPS14', 'CD3D', 'GZMK', 'SUMO2', 'RPS3'], dtype='object')\n",
      "10 Index(['UBB', 'ARL6IP1', 'HMGN1', 'COX6C', 'GAPDH'], dtype='object')\n",
      "7 Index(['TXNIP', 'NPM1', 'RPS14', 'FYN', 'YBX1'], dtype='object')\n",
      "2 Index(['RPS14', 'CD52', 'UBB', 'CD3D', 'PNRC1'], dtype='object')\n",
      "6 Index(['CD3D', 'ACTR3', 'COX6C', 'RPS14', 'GAPDH'], dtype='object')\n",
      "4 Index(['CD52', 'RPS14', 'CLIC1', 'COX6C', 'GAPDH'], dtype='object')\n"
     ]
    }
   ],
   "source": [
    "K = 15\n",
    "\n",
    "idxs = np.argsort(np.sum(W, axis=0))[::-1]\n",
    "\n",
    "for k in idxs:\n",
    "    idxs = np.argsort(H[k, :])[::-1]\n",
    "    print(k, genes[idxs[:5]])"
   ]
  },
  {
   "cell_type": "code",
   "execution_count": 69,
   "metadata": {},
   "outputs": [
    {
     "data": {
      "text/plain": [
       "array([3, 1, 0, 2])"
      ]
     },
     "execution_count": 69,
     "metadata": {},
     "output_type": "execute_result"
    }
   ],
   "source": [
    "test = np.array([10, 15, 5, 20])\n",
    "np.argsort(test)[::-1]"
   ]
  },
  {
   "cell_type": "code",
   "execution_count": 67,
   "metadata": {},
   "outputs": [
    {
     "name": "stderr",
     "output_type": "stream",
     "text": [
      "Variable names are not unique. To make them unique, call `.var_names_make_unique`.\n"
     ]
    },
    {
     "data": {
      "text/plain": [
       "(0.41266, 0.3361)"
      ]
     },
     "execution_count": 67,
     "metadata": {},
     "output_type": "execute_result"
    }
   ],
   "source": [
    "_, sparsity1 = make_insilico_dataset()\n",
    "_, sparsity2 = make_downsampled_dataset()\n",
    "sparsity1, sparsity2"
   ]
  },
  {
   "cell_type": "code",
   "execution_count": null,
   "metadata": {},
   "outputs": [],
   "source": []
  }
 ],
 "metadata": {
  "kernelspec": {
   "display_name": "Python 3",
   "language": "python",
   "name": "python3"
  },
  "language_info": {
   "codemirror_mode": {
    "name": "ipython",
    "version": 3
   },
   "file_extension": ".py",
   "mimetype": "text/x-python",
   "name": "python",
   "nbconvert_exporter": "python",
   "pygments_lexer": "ipython3",
   "version": "3.6.9"
  }
 },
 "nbformat": 4,
 "nbformat_minor": 4
}
