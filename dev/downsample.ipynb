{
 "cells": [
  {
   "cell_type": "code",
   "execution_count": 1,
   "metadata": {},
   "outputs": [],
   "source": [
    "import os\n",
    "import sys\n",
    "sys.path.append(os.path.dirname(os.path.dirname(os.getcwd())))"
   ]
  },
  {
   "cell_type": "code",
   "execution_count": 56,
   "metadata": {},
   "outputs": [],
   "source": [
    "from bayesmf.models.nmf import VanillaNMF, ConsensusNMF\n",
    "from bayesmf.models.bmf import BMF, StochasticBMF\n",
    "from bayesmf.models.cmf import CMF, StochasticCMF\n",
    "from bayesmf.scripts.utils.model import workhorse, run_kfold_xval\n",
    "\n",
    "%reload_ext autoreload\n",
    "%autoreload 2"
   ]
  },
  {
   "cell_type": "code",
   "execution_count": 64,
   "metadata": {},
   "outputs": [],
   "source": [
    "import pickle\n",
    "import numpy as np\n",
    "import pandas as pd\n",
    "import anndata as ad\n",
    "import scanpy as sc\n",
    "import matplotlib.pyplot as plt"
   ]
  },
  {
   "cell_type": "code",
   "execution_count": 4,
   "metadata": {},
   "outputs": [
    {
     "name": "stderr",
     "output_type": "stream",
     "text": [
      "Variable names are not unique. To make them unique, call `.var_names_make_unique`.\n"
     ]
    }
   ],
   "source": [
    "home_path = '/home/sxchao/crc_atlas/c222/colon10x_c222_subClean/'\n",
    "#in_path = home_path + 'colon10x_c222_normTPM_112319.h5ad'\n",
    "in_path = home_path + 'colon10x_c222_rawCount_042320.h5ad'\n",
    "\n",
    "adata = sc.read_h5ad(in_path)\n",
    "adata.var_names_make_unique()"
   ]
  },
  {
   "cell_type": "code",
   "execution_count": 5,
   "metadata": {},
   "outputs": [],
   "source": [
    "clusters = adata.obs['clFullc222'].unique()\n",
    "clusters_t = [x for x in clusters if x[0]=='T']\n",
    "adata_t = adata[adata.obs['clFullc222'].isin(clusters_t),:]"
   ]
  },
  {
   "cell_type": "code",
   "execution_count": 6,
   "metadata": {},
   "outputs": [],
   "source": [
    "cd8 = np.asarray(adata_t[:,['CD8A','CD8B']].X.todense())\n",
    "cd8 = cd8.sum(axis=1) > 0\n",
    "tcells = np.asarray(adata_t[cd8, :].X.todense())"
   ]
  },
  {
   "cell_type": "code",
   "execution_count": 27,
   "metadata": {},
   "outputs": [
    {
     "data": {
      "text/plain": [
       "(16852, 43078)"
      ]
     },
     "execution_count": 27,
     "metadata": {},
     "output_type": "execute_result"
    }
   ],
   "source": [
    "tcells.shape # cells x genes"
   ]
  },
  {
   "cell_type": "code",
   "execution_count": 7,
   "metadata": {},
   "outputs": [
    {
     "data": {
      "text/plain": [
       "(16852,)"
      ]
     },
     "execution_count": 7,
     "metadata": {},
     "output_type": "execute_result"
    }
   ],
   "source": [
    "cells = np.count_nonzero(tcells, axis=1)\n",
    "cells.shape"
   ]
  },
  {
   "cell_type": "code",
   "execution_count": 8,
   "metadata": {},
   "outputs": [
    {
     "data": {
      "text/plain": [
       "(43078,)"
      ]
     },
     "execution_count": 8,
     "metadata": {},
     "output_type": "execute_result"
    }
   ],
   "source": [
    "genes = np.count_nonzero(tcells, axis=0)\n",
    "genes.shape"
   ]
  },
  {
   "cell_type": "code",
   "execution_count": 53,
   "metadata": {},
   "outputs": [
    {
     "data": {
      "text/plain": [
       "(2259.0, 2145.4500000000044)"
      ]
     },
     "execution_count": 53,
     "metadata": {},
     "output_type": "execute_result"
    }
   ],
   "source": [
    "np.quantile(cells, 0.95), np.quantile(genes, 0.95)"
   ]
  },
  {
   "cell_type": "code",
   "execution_count": 9,
   "metadata": {},
   "outputs": [
    {
     "data": {
      "text/plain": [
       "(array([8.083e+03, 6.308e+03, 1.493e+03, 5.490e+02, 2.450e+02, 9.400e+01,\n",
       "        4.200e+01, 2.400e+01, 9.000e+00, 5.000e+00]),\n",
       " array([ 236. ,  872.3, 1508.6, 2144.9, 2781.2, 3417.5, 4053.8, 4690.1,\n",
       "        5326.4, 5962.7, 6599. ]),\n",
       " <a list of 10 Patch objects>)"
      ]
     },
     "execution_count": 9,
     "metadata": {},
     "output_type": "execute_result"
    },
    {
     "data": {
      "image/png": "[encoded data removed]",
      "text/plain": [
       "<Figure size 432x288 with 1 Axes>"
      ]
     },
     "metadata": {
      "needs_background": "light"
     },
     "output_type": "display_data"
    }
   ],
   "source": [
    "plt.hist(cells)"
   ]
  },
  {
   "cell_type": "code",
   "execution_count": 10,
   "metadata": {},
   "outputs": [
    {
     "data": {
      "text/plain": [
       "(array([4.0317e+04, 1.5040e+03, 5.2500e+02, 2.6400e+02, 1.5400e+02,\n",
       "        9.0000e+01, 5.0000e+01, 3.8000e+01, 2.8000e+01, 1.0800e+02]),\n",
       " array([    0.,  1685.,  3370.,  5055.,  6740.,  8425., 10110., 11795.,\n",
       "        13480., 15165., 16850.]),\n",
       " <a list of 10 Patch objects>)"
      ]
     },
     "execution_count": 10,
     "metadata": {},
     "output_type": "execute_result"
    },
    {
     "data": {
      "image/png": "[encoded data removed]",
      "text/plain": [
       "<Figure size 432x288 with 1 Axes>"
      ]
     },
     "metadata": {
      "needs_background": "light"
     },
     "output_type": "display_data"
    }
   ],
   "source": [
    "plt.hist(genes)"
   ]
  },
  {
   "cell_type": "code",
   "execution_count": 26,
   "metadata": {},
   "outputs": [
    {
     "data": {
      "text/plain": [
       "(740, 16852)"
      ]
     },
     "execution_count": 26,
     "metadata": {},
     "output_type": "execute_result"
    }
   ],
   "source": [
    "np.sum(genes > 5000), np.sum(cells > 100)"
   ]
  },
  {
   "cell_type": "code",
   "execution_count": 54,
   "metadata": {},
   "outputs": [
    {
     "data": {
      "text/plain": [
       "0.36407"
      ]
     },
     "execution_count": 54,
     "metadata": {},
     "output_type": "execute_result"
    }
   ],
   "source": [
    "cells_want = np.random.choice(np.nonzero(cells > 2000)[0], 1000)\n",
    "genes_want = np.random.choice(np.nonzero(genes > 2000)[0], 100)\n",
    "\n",
    "ktcells = tcells[cells_want, :]\n",
    "ktcells = ktcells[:, genes_want]\n",
    "\n",
    "np.count_nonzero(ktcells == 0) / ktcells.size"
   ]
  },
  {
   "cell_type": "code",
   "execution_count": 55,
   "metadata": {},
   "outputs": [
    {
     "data": {
      "text/plain": [
       "array([[6., 4., 0., 1., 2.],\n",
       "       [3., 2., 0., 0., 0.],\n",
       "       [3., 5., 1., 1., 2.],\n",
       "       [0., 0., 1., 0., 4.],\n",
       "       [5., 1., 0., 5., 6.]], dtype=float32)"
      ]
     },
     "execution_count": 55,
     "metadata": {},
     "output_type": "execute_result"
    }
   ],
   "source": [
    "ktcells[:5,:5]"
   ]
  },
  {
   "cell_type": "code",
   "execution_count": 15,
   "metadata": {
    "scrolled": true
   },
   "outputs": [
    {
     "data": {
      "application/vnd.jupyter.widget-view+json": {
       "model_id": "a67dbbd8f7a047c4b481c7c279fbf3b7",
       "version_major": 2,
       "version_minor": 0
      },
      "text/plain": [
       "HBox(children=(IntProgress(value=0, description='k-soln', max=5, style=ProgressStyle(description_width='initia…"
      ]
     },
     "metadata": {},
     "output_type": "display_data"
    },
    {
     "data": {
      "application/vnd.jupyter.widget-view+json": {
       "model_id": "12e420b392ff447eb9b621b21cf09573",
       "version_major": 2,
       "version_minor": 0
      },
      "text/plain": [
       "HBox(children=(IntProgress(value=0, description='method', max=5, style=ProgressStyle(description_width='initia…"
      ]
     },
     "metadata": {},
     "output_type": "display_data"
    },
    {
     "name": "stderr",
     "output_type": "stream",
     "text": [
      "/home/sxchao/bayesmf/models/bmf.py:97: RuntimeWarning: invalid value encountered in double_scalars\n",
      "  chg = (elbo_new - elbo_old) / abs(elbo_old)\n",
      "/home/sxchao/bayesmf/models/bmf.py:97: RuntimeWarning: invalid value encountered in double_scalars\n",
      "  chg = (elbo_new - elbo_old) / abs(elbo_old)\n",
      "/home/sxchao/bayesmf/models/bmf.py:97: RuntimeWarning: invalid value encountered in double_scalars\n",
      "  chg = (elbo_new - elbo_old) / abs(elbo_old)\n",
      "/home/sxchao/bayesmf/models/bmf.py:97: RuntimeWarning: invalid value encountered in double_scalars\n",
      "  chg = (elbo_new - elbo_old) / abs(elbo_old)\n",
      "/home/sxchao/bayesmf/models/bmf.py:97: RuntimeWarning: invalid value encountered in double_scalars\n",
      "  chg = (elbo_new - elbo_old) / abs(elbo_old)\n"
     ]
    },
    {
     "name": "stdout",
     "output_type": "stream",
     "text": [
      "\n"
     ]
    },
    {
     "data": {
      "application/vnd.jupyter.widget-view+json": {
       "model_id": "dffe88871f6841d09e304f565b178e75",
       "version_major": 2,
       "version_minor": 0
      },
      "text/plain": [
       "HBox(children=(IntProgress(value=0, description='method', max=5, style=ProgressStyle(description_width='initia…"
      ]
     },
     "metadata": {},
     "output_type": "display_data"
    },
    {
     "name": "stderr",
     "output_type": "stream",
     "text": [
      "/home/sxchao/bayesmf/models/bmf.py:97: RuntimeWarning: invalid value encountered in double_scalars\n",
      "  chg = (elbo_new - elbo_old) / abs(elbo_old)\n",
      "/home/sxchao/bayesmf/models/bmf.py:97: RuntimeWarning: invalid value encountered in double_scalars\n",
      "  chg = (elbo_new - elbo_old) / abs(elbo_old)\n",
      "/home/sxchao/bayesmf/models/bmf.py:97: RuntimeWarning: invalid value encountered in double_scalars\n",
      "  chg = (elbo_new - elbo_old) / abs(elbo_old)\n",
      "/home/sxchao/bayesmf/models/bmf.py:97: RuntimeWarning: invalid value encountered in double_scalars\n",
      "  chg = (elbo_new - elbo_old) / abs(elbo_old)\n",
      "/home/sxchao/bayesmf/models/bmf.py:97: RuntimeWarning: invalid value encountered in double_scalars\n",
      "  chg = (elbo_new - elbo_old) / abs(elbo_old)\n"
     ]
    },
    {
     "name": "stdout",
     "output_type": "stream",
     "text": [
      "\n"
     ]
    },
    {
     "data": {
      "application/vnd.jupyter.widget-view+json": {
       "model_id": "9bd06288dc584b74a89e3939f1cb0e23",
       "version_major": 2,
       "version_minor": 0
      },
      "text/plain": [
       "HBox(children=(IntProgress(value=0, description='method', max=5, style=ProgressStyle(description_width='initia…"
      ]
     },
     "metadata": {},
     "output_type": "display_data"
    },
    {
     "name": "stderr",
     "output_type": "stream",
     "text": [
      "/home/sxchao/bayesmf/models/bmf.py:97: RuntimeWarning: invalid value encountered in double_scalars\n",
      "  chg = (elbo_new - elbo_old) / abs(elbo_old)\n",
      "/home/sxchao/bayesmf/models/bmf.py:97: RuntimeWarning: invalid value encountered in double_scalars\n",
      "  chg = (elbo_new - elbo_old) / abs(elbo_old)\n",
      "/home/sxchao/bayesmf/models/bmf.py:97: RuntimeWarning: invalid value encountered in double_scalars\n",
      "  chg = (elbo_new - elbo_old) / abs(elbo_old)\n",
      "/home/sxchao/bayesmf/models/bmf.py:97: RuntimeWarning: invalid value encountered in double_scalars\n",
      "  chg = (elbo_new - elbo_old) / abs(elbo_old)\n",
      "/home/sxchao/bayesmf/models/bmf.py:97: RuntimeWarning: invalid value encountered in double_scalars\n",
      "  chg = (elbo_new - elbo_old) / abs(elbo_old)\n"
     ]
    },
    {
     "name": "stdout",
     "output_type": "stream",
     "text": [
      "\n"
     ]
    },
    {
     "data": {
      "application/vnd.jupyter.widget-view+json": {
       "model_id": "417ecdd2f07d4c0290341d4e7cb09826",
       "version_major": 2,
       "version_minor": 0
      },
      "text/plain": [
       "HBox(children=(IntProgress(value=0, description='method', max=5, style=ProgressStyle(description_width='initia…"
      ]
     },
     "metadata": {},
     "output_type": "display_data"
    },
    {
     "name": "stderr",
     "output_type": "stream",
     "text": [
      "/home/sxchao/bayesmf/models/bmf.py:97: RuntimeWarning: invalid value encountered in double_scalars\n",
      "  chg = (elbo_new - elbo_old) / abs(elbo_old)\n",
      "/home/sxchao/bayesmf/models/bmf.py:97: RuntimeWarning: invalid value encountered in double_scalars\n",
      "  chg = (elbo_new - elbo_old) / abs(elbo_old)\n",
      "/home/sxchao/bayesmf/models/bmf.py:97: RuntimeWarning: invalid value encountered in double_scalars\n",
      "  chg = (elbo_new - elbo_old) / abs(elbo_old)\n",
      "/home/sxchao/bayesmf/models/bmf.py:97: RuntimeWarning: invalid value encountered in double_scalars\n",
      "  chg = (elbo_new - elbo_old) / abs(elbo_old)\n",
      "/home/sxchao/bayesmf/models/bmf.py:97: RuntimeWarning: invalid value encountered in double_scalars\n",
      "  chg = (elbo_new - elbo_old) / abs(elbo_old)\n"
     ]
    },
    {
     "name": "stdout",
     "output_type": "stream",
     "text": [
      "\n"
     ]
    },
    {
     "data": {
      "application/vnd.jupyter.widget-view+json": {
       "model_id": "e2ccbbefb8c046e2bc688ed35fd7ef4e",
       "version_major": 2,
       "version_minor": 0
      },
      "text/plain": [
       "HBox(children=(IntProgress(value=0, description='method', max=5, style=ProgressStyle(description_width='initia…"
      ]
     },
     "metadata": {},
     "output_type": "display_data"
    },
    {
     "name": "stderr",
     "output_type": "stream",
     "text": [
      "/home/sxchao/bayesmf/models/bmf.py:97: RuntimeWarning: invalid value encountered in double_scalars\n",
      "  chg = (elbo_new - elbo_old) / abs(elbo_old)\n",
      "/home/sxchao/bayesmf/models/bmf.py:97: RuntimeWarning: invalid value encountered in double_scalars\n",
      "  chg = (elbo_new - elbo_old) / abs(elbo_old)\n",
      "/home/sxchao/bayesmf/models/bmf.py:97: RuntimeWarning: invalid value encountered in double_scalars\n",
      "  chg = (elbo_new - elbo_old) / abs(elbo_old)\n",
      "/home/sxchao/bayesmf/models/bmf.py:97: RuntimeWarning: invalid value encountered in double_scalars\n",
      "  chg = (elbo_new - elbo_old) / abs(elbo_old)\n",
      "/home/sxchao/bayesmf/models/bmf.py:97: RuntimeWarning: invalid value encountered in double_scalars\n",
      "  chg = (elbo_new - elbo_old) / abs(elbo_old)\n"
     ]
    },
    {
     "name": "stdout",
     "output_type": "stream",
     "text": [
      "\n",
      "\n"
     ]
    }
   ],
   "source": [
    "X = ktcells.T\n",
    "errs, durs = run_kfold_xval(X)"
   ]
  },
  {
   "cell_type": "code",
   "execution_count": 16,
   "metadata": {
    "scrolled": true
   },
   "outputs": [
    {
     "data": {
      "text/plain": [
       "{5: {'vanilla': [8.513729634431549,\n",
       "   8.058201293281698,\n",
       "   7.814426135808831,\n",
       "   8.20148534259155,\n",
       "   8.370446525327283],\n",
       "  'consensus': [8.513729634431549,\n",
       "   8.058201293281698,\n",
       "   7.81442613580883,\n",
       "   8.20148534259155,\n",
       "   8.370446525327285],\n",
       "  'batch': [19.455883090731092,\n",
       "   19.188979925294948,\n",
       "   18.39407061865612,\n",
       "   19.726335959198785,\n",
       "   18.412382734386505],\n",
       "  'stochastic': [18.95039382141941,\n",
       "   18.774547751391008,\n",
       "   17.719905470377103,\n",
       "   18.58878998171735,\n",
       "   17.700486440317825]},\n",
       " 10: {'vanilla': [6.920450667771555,\n",
       "   6.578455530233085,\n",
       "   6.293241513030171,\n",
       "   6.492882113369556,\n",
       "   6.640490452874349],\n",
       "  'consensus': [6.920450667771556,\n",
       "   6.578455530233085,\n",
       "   6.29324151303017,\n",
       "   6.492882113369556,\n",
       "   6.640490452874349],\n",
       "  'batch': [19.41390627832119,\n",
       "   19.13067788925658,\n",
       "   18.340282804747712,\n",
       "   19.67659539139587,\n",
       "   18.352221846295517],\n",
       "  'stochastic': [13.266000071002672,\n",
       "   13.09302682394237,\n",
       "   12.166114307270899,\n",
       "   13.750841297610984,\n",
       "   12.440076976446505]},\n",
       " 15: {'vanilla': [6.054652616778335,\n",
       "   5.9400183507471915,\n",
       "   5.714470895260076,\n",
       "   5.82836518883631,\n",
       "   5.954468128758006],\n",
       "  'consensus': [6.054652616778336,\n",
       "   5.940018350747192,\n",
       "   5.714470895260076,\n",
       "   5.82836518883631,\n",
       "   5.954468128758006],\n",
       "  'batch': [19.442287598253227,\n",
       "   19.16124991181637,\n",
       "   18.363703474596562,\n",
       "   19.67901631381194,\n",
       "   18.403668973240965],\n",
       "  'stochastic': [14.014959913390221,\n",
       "   16.1902438396478,\n",
       "   15.193196226021504,\n",
       "   15.905844003689165,\n",
       "   13.904741594914315]},\n",
       " 20: {'vanilla': [5.499549764096686,\n",
       "   5.498491735336347,\n",
       "   5.255777293931128,\n",
       "   5.412487365484148,\n",
       "   5.551110994271969],\n",
       "  'consensus': [5.4995497640966855,\n",
       "   5.498491735336347,\n",
       "   5.2557772939311285,\n",
       "   5.412487365484148,\n",
       "   5.551110994271968],\n",
       "  'batch': [19.470336399871506,\n",
       "   19.170123019948132,\n",
       "   18.376262481775584,\n",
       "   19.696086193281538,\n",
       "   18.41352093126707],\n",
       "  'stochastic': [14.379751486984658,\n",
       "   13.997100435024285,\n",
       "   11.982720406391191,\n",
       "   12.613569250690746,\n",
       "   12.019864883830424]},\n",
       " 25: {'vanilla': [5.185991034069938,\n",
       "   5.17134812153649,\n",
       "   4.950398348237124,\n",
       "   5.068318084566357,\n",
       "   5.150788169636426],\n",
       "  'consensus': [5.185991034069938,\n",
       "   5.17134812153649,\n",
       "   4.950398348237124,\n",
       "   5.068318084566357,\n",
       "   5.150788169636426],\n",
       "  'batch': [19.4417815013652,\n",
       "   19.159846363133298,\n",
       "   18.356171921081895,\n",
       "   19.66832733028243,\n",
       "   18.393892734858156],\n",
       "  'stochastic': [11.591307675376555,\n",
       "   11.817884011899219,\n",
       "   9.774656118787275,\n",
       "   10.906114030277477,\n",
       "   10.547268053523272]}}"
      ]
     },
     "execution_count": 16,
     "metadata": {},
     "output_type": "execute_result"
    }
   ],
   "source": [
    "errs"
   ]
  },
  {
   "cell_type": "code",
   "execution_count": 19,
   "metadata": {
    "scrolled": true
   },
   "outputs": [
    {
     "data": {
      "text/plain": [
       "{5: {'vanilla': [8.513729634431549,\n",
       "   8.058201293281698,\n",
       "   7.814426135808831,\n",
       "   8.20148534259155,\n",
       "   8.370446525327283],\n",
       "  'consensus': [8.513729634431549,\n",
       "   8.058201293281698,\n",
       "   7.81442613580883,\n",
       "   8.20148534259155,\n",
       "   8.370446525327285],\n",
       "  'batch': [19.455883090731092,\n",
       "   19.188979925294948,\n",
       "   18.39407061865612,\n",
       "   19.726335959198785,\n",
       "   18.412382734386505],\n",
       "  'stochastic': [18.95039382141941,\n",
       "   18.774547751391008,\n",
       "   17.719905470377103,\n",
       "   18.58878998171735,\n",
       "   17.700486440317825]},\n",
       " 10: {'vanilla': [6.920450667771555,\n",
       "   6.578455530233085,\n",
       "   6.293241513030171,\n",
       "   6.492882113369556,\n",
       "   6.640490452874349],\n",
       "  'consensus': [6.920450667771556,\n",
       "   6.578455530233085,\n",
       "   6.29324151303017,\n",
       "   6.492882113369556,\n",
       "   6.640490452874349],\n",
       "  'batch': [19.41390627832119,\n",
       "   19.13067788925658,\n",
       "   18.340282804747712,\n",
       "   19.67659539139587,\n",
       "   18.352221846295517],\n",
       "  'stochastic': [13.266000071002672,\n",
       "   13.09302682394237,\n",
       "   12.166114307270899,\n",
       "   13.750841297610984,\n",
       "   12.440076976446505]},\n",
       " 15: {'vanilla': [6.054652616778335,\n",
       "   5.9400183507471915,\n",
       "   5.714470895260076,\n",
       "   5.82836518883631,\n",
       "   5.954468128758006],\n",
       "  'consensus': [6.054652616778336,\n",
       "   5.940018350747192,\n",
       "   5.714470895260076,\n",
       "   5.82836518883631,\n",
       "   5.954468128758006],\n",
       "  'batch': [19.442287598253227,\n",
       "   19.16124991181637,\n",
       "   18.363703474596562,\n",
       "   19.67901631381194,\n",
       "   18.403668973240965],\n",
       "  'stochastic': [14.014959913390221,\n",
       "   16.1902438396478,\n",
       "   15.193196226021504,\n",
       "   15.905844003689165,\n",
       "   13.904741594914315]},\n",
       " 20: {'vanilla': [5.499549764096686,\n",
       "   5.498491735336347,\n",
       "   5.255777293931128,\n",
       "   5.412487365484148,\n",
       "   5.551110994271969],\n",
       "  'consensus': [5.4995497640966855,\n",
       "   5.498491735336347,\n",
       "   5.2557772939311285,\n",
       "   5.412487365484148,\n",
       "   5.551110994271968],\n",
       "  'batch': [19.470336399871506,\n",
       "   19.170123019948132,\n",
       "   18.376262481775584,\n",
       "   19.696086193281538,\n",
       "   18.41352093126707],\n",
       "  'stochastic': [14.379751486984658,\n",
       "   13.997100435024285,\n",
       "   11.982720406391191,\n",
       "   12.613569250690746,\n",
       "   12.019864883830424]},\n",
       " 25: {'vanilla': [5.185991034069938,\n",
       "   5.17134812153649,\n",
       "   4.950398348237124,\n",
       "   5.068318084566357,\n",
       "   5.150788169636426],\n",
       "  'consensus': [5.185991034069938,\n",
       "   5.17134812153649,\n",
       "   4.950398348237124,\n",
       "   5.068318084566357,\n",
       "   5.150788169636426],\n",
       "  'batch': [19.4417815013652,\n",
       "   19.159846363133298,\n",
       "   18.356171921081895,\n",
       "   19.66832733028243,\n",
       "   18.393892734858156],\n",
       "  'stochastic': [11.591307675376555,\n",
       "   11.817884011899219,\n",
       "   9.774656118787275,\n",
       "   10.906114030277477,\n",
       "   10.547268053523272]}}"
      ]
     },
     "execution_count": 19,
     "metadata": {},
     "output_type": "execute_result"
    }
   ],
   "source": [
    "errs1b"
   ]
  },
  {
   "cell_type": "code",
   "execution_count": 20,
   "metadata": {},
   "outputs": [],
   "source": [
    "import pickle\n",
    "pickle.dump(errs1b, open('/home/sxchao/bayesmf/output/errsDown_rawCount_01b.pkl', 'wb'))\n",
    "pickle.dump(durs1b, open('/home/sxchao/bayesmf/output/dursDown_rawCount_01b.pkl', 'wb'))"
   ]
  },
  {
   "cell_type": "code",
   "execution_count": 18,
   "metadata": {
    "scrolled": true
   },
   "outputs": [
    {
     "data": {
      "application/vnd.jupyter.widget-view+json": {
       "model_id": "13422e02ef094fb3970d07dd75cf08a8",
       "version_major": 2,
       "version_minor": 0
      },
      "text/plain": [
       "HBox(children=(IntProgress(value=0, description='k-soln', max=5, style=ProgressStyle(description_width='initia…"
      ]
     },
     "metadata": {},
     "output_type": "display_data"
    },
    {
     "data": {
      "application/vnd.jupyter.widget-view+json": {
       "model_id": "c6d8458175004739ad3178afab41461e",
       "version_major": 2,
       "version_minor": 0
      },
      "text/plain": [
       "HBox(children=(IntProgress(value=0, description='method', max=5, style=ProgressStyle(description_width='initia…"
      ]
     },
     "metadata": {},
     "output_type": "display_data"
    },
    {
     "name": "stderr",
     "output_type": "stream",
     "text": [
      "/home/sxchao/bayesmf/models/bmf.py:97: RuntimeWarning: invalid value encountered in double_scalars\n",
      "  chg = (elbo_new - elbo_old) / abs(elbo_old)\n",
      "/home/sxchao/bayesmf/models/bmf.py:97: RuntimeWarning: invalid value encountered in double_scalars\n",
      "  chg = (elbo_new - elbo_old) / abs(elbo_old)\n",
      "/home/sxchao/bayesmf/models/bmf.py:97: RuntimeWarning: invalid value encountered in double_scalars\n",
      "  chg = (elbo_new - elbo_old) / abs(elbo_old)\n",
      "/home/sxchao/bayesmf/models/bmf.py:97: RuntimeWarning: invalid value encountered in double_scalars\n",
      "  chg = (elbo_new - elbo_old) / abs(elbo_old)\n",
      "/home/sxchao/bayesmf/models/bmf.py:97: RuntimeWarning: invalid value encountered in double_scalars\n",
      "  chg = (elbo_new - elbo_old) / abs(elbo_old)\n"
     ]
    },
    {
     "name": "stdout",
     "output_type": "stream",
     "text": [
      "\n"
     ]
    },
    {
     "data": {
      "application/vnd.jupyter.widget-view+json": {
       "model_id": "8b1047c308794f1396ad91bf43c19e7a",
       "version_major": 2,
       "version_minor": 0
      },
      "text/plain": [
       "HBox(children=(IntProgress(value=0, description='method', max=5, style=ProgressStyle(description_width='initia…"
      ]
     },
     "metadata": {},
     "output_type": "display_data"
    },
    {
     "name": "stderr",
     "output_type": "stream",
     "text": [
      "/home/sxchao/bayesmf/models/bmf.py:97: RuntimeWarning: invalid value encountered in double_scalars\n",
      "  chg = (elbo_new - elbo_old) / abs(elbo_old)\n",
      "/home/sxchao/bayesmf/models/bmf.py:97: RuntimeWarning: invalid value encountered in double_scalars\n",
      "  chg = (elbo_new - elbo_old) / abs(elbo_old)\n",
      "/home/sxchao/bayesmf/models/bmf.py:97: RuntimeWarning: invalid value encountered in double_scalars\n",
      "  chg = (elbo_new - elbo_old) / abs(elbo_old)\n",
      "/home/sxchao/bayesmf/models/bmf.py:97: RuntimeWarning: invalid value encountered in double_scalars\n",
      "  chg = (elbo_new - elbo_old) / abs(elbo_old)\n",
      "/home/sxchao/bayesmf/models/bmf.py:97: RuntimeWarning: invalid value encountered in double_scalars\n",
      "  chg = (elbo_new - elbo_old) / abs(elbo_old)\n"
     ]
    },
    {
     "name": "stdout",
     "output_type": "stream",
     "text": [
      "\n"
     ]
    },
    {
     "data": {
      "application/vnd.jupyter.widget-view+json": {
       "model_id": "6d98bff24df34ea18be14286ad1a2347",
       "version_major": 2,
       "version_minor": 0
      },
      "text/plain": [
       "HBox(children=(IntProgress(value=0, description='method', max=5, style=ProgressStyle(description_width='initia…"
      ]
     },
     "metadata": {},
     "output_type": "display_data"
    },
    {
     "name": "stderr",
     "output_type": "stream",
     "text": [
      "/home/sxchao/bayesmf/models/bmf.py:97: RuntimeWarning: invalid value encountered in double_scalars\n",
      "  chg = (elbo_new - elbo_old) / abs(elbo_old)\n",
      "/home/sxchao/bayesmf/models/bmf.py:97: RuntimeWarning: invalid value encountered in double_scalars\n",
      "  chg = (elbo_new - elbo_old) / abs(elbo_old)\n",
      "/home/sxchao/bayesmf/models/bmf.py:97: RuntimeWarning: invalid value encountered in double_scalars\n",
      "  chg = (elbo_new - elbo_old) / abs(elbo_old)\n",
      "/home/sxchao/bayesmf/models/bmf.py:97: RuntimeWarning: invalid value encountered in double_scalars\n",
      "  chg = (elbo_new - elbo_old) / abs(elbo_old)\n",
      "/home/sxchao/bayesmf/models/bmf.py:97: RuntimeWarning: invalid value encountered in double_scalars\n",
      "  chg = (elbo_new - elbo_old) / abs(elbo_old)\n"
     ]
    },
    {
     "name": "stdout",
     "output_type": "stream",
     "text": [
      "\n"
     ]
    },
    {
     "data": {
      "application/vnd.jupyter.widget-view+json": {
       "model_id": "18a4a0579a6342ce8bda4d303267dcc6",
       "version_major": 2,
       "version_minor": 0
      },
      "text/plain": [
       "HBox(children=(IntProgress(value=0, description='method', max=5, style=ProgressStyle(description_width='initia…"
      ]
     },
     "metadata": {},
     "output_type": "display_data"
    },
    {
     "name": "stderr",
     "output_type": "stream",
     "text": [
      "/home/sxchao/bayesmf/models/bmf.py:97: RuntimeWarning: invalid value encountered in double_scalars\n",
      "  chg = (elbo_new - elbo_old) / abs(elbo_old)\n",
      "/home/sxchao/bayesmf/models/bmf.py:97: RuntimeWarning: invalid value encountered in double_scalars\n",
      "  chg = (elbo_new - elbo_old) / abs(elbo_old)\n",
      "/home/sxchao/bayesmf/models/bmf.py:97: RuntimeWarning: invalid value encountered in double_scalars\n",
      "  chg = (elbo_new - elbo_old) / abs(elbo_old)\n",
      "/home/sxchao/bayesmf/models/bmf.py:97: RuntimeWarning: invalid value encountered in double_scalars\n",
      "  chg = (elbo_new - elbo_old) / abs(elbo_old)\n",
      "/home/sxchao/bayesmf/models/bmf.py:97: RuntimeWarning: invalid value encountered in double_scalars\n",
      "  chg = (elbo_new - elbo_old) / abs(elbo_old)\n"
     ]
    },
    {
     "name": "stdout",
     "output_type": "stream",
     "text": [
      "\n"
     ]
    },
    {
     "data": {
      "application/vnd.jupyter.widget-view+json": {
       "model_id": "9ae166bfd5c64da3928cea471762c4ba",
       "version_major": 2,
       "version_minor": 0
      },
      "text/plain": [
       "HBox(children=(IntProgress(value=0, description='method', max=5, style=ProgressStyle(description_width='initia…"
      ]
     },
     "metadata": {},
     "output_type": "display_data"
    },
    {
     "name": "stderr",
     "output_type": "stream",
     "text": [
      "/home/sxchao/bayesmf/models/bmf.py:97: RuntimeWarning: invalid value encountered in double_scalars\n",
      "  chg = (elbo_new - elbo_old) / abs(elbo_old)\n",
      "/home/sxchao/bayesmf/models/bmf.py:97: RuntimeWarning: invalid value encountered in double_scalars\n",
      "  chg = (elbo_new - elbo_old) / abs(elbo_old)\n",
      "/home/sxchao/bayesmf/models/bmf.py:97: RuntimeWarning: invalid value encountered in double_scalars\n",
      "  chg = (elbo_new - elbo_old) / abs(elbo_old)\n",
      "/home/sxchao/bayesmf/models/bmf.py:97: RuntimeWarning: invalid value encountered in double_scalars\n",
      "  chg = (elbo_new - elbo_old) / abs(elbo_old)\n",
      "/home/sxchao/bayesmf/models/bmf.py:97: RuntimeWarning: invalid value encountered in double_scalars\n",
      "  chg = (elbo_new - elbo_old) / abs(elbo_old)\n"
     ]
    },
    {
     "name": "stdout",
     "output_type": "stream",
     "text": [
      "\n",
      "\n"
     ]
    }
   ],
   "source": [
    "errs1b, durs1b = run_kfold_xval(X)"
   ]
  },
  {
   "cell_type": "code",
   "execution_count": 42,
   "metadata": {
    "scrolled": true
   },
   "outputs": [
    {
     "data": {
      "application/vnd.jupyter.widget-view+json": {
       "model_id": "8a129486d4f04339988d579b234f2a92",
       "version_major": 2,
       "version_minor": 0
      },
      "text/plain": [
       "HBox(children=(IntProgress(value=0, description='k-soln', max=5, style=ProgressStyle(description_width='initia…"
      ]
     },
     "metadata": {},
     "output_type": "display_data"
    },
    {
     "data": {
      "application/vnd.jupyter.widget-view+json": {
       "model_id": "97175d27987e4879b8213d4cd6787441",
       "version_major": 2,
       "version_minor": 0
      },
      "text/plain": [
       "HBox(children=(IntProgress(value=0, description='method', max=10, style=ProgressStyle(description_width='initi…"
      ]
     },
     "metadata": {},
     "output_type": "display_data"
    },
    {
     "name": "stderr",
     "output_type": "stream",
     "text": [
      "/home/sxchao/bayesmf/models/bmf.py:97: RuntimeWarning: invalid value encountered in double_scalars\n",
      "  \n",
      "/home/sxchao/bayesmf/models/bmf.py:97: RuntimeWarning: invalid value encountered in double_scalars\n",
      "  \n",
      "/home/sxchao/bayesmf/models/bmf.py:97: RuntimeWarning: invalid value encountered in double_scalars\n",
      "  \n",
      "/home/sxchao/bayesmf/models/bmf.py:97: RuntimeWarning: invalid value encountered in double_scalars\n",
      "  \n",
      "/home/sxchao/bayesmf/models/bmf.py:97: RuntimeWarning: invalid value encountered in double_scalars\n",
      "  \n",
      "/home/sxchao/bayesmf/models/bmf.py:97: RuntimeWarning: invalid value encountered in double_scalars\n",
      "  \n",
      "/home/sxchao/bayesmf/models/bmf.py:97: RuntimeWarning: invalid value encountered in double_scalars\n",
      "  \n",
      "/home/sxchao/bayesmf/models/bmf.py:97: RuntimeWarning: invalid value encountered in double_scalars\n",
      "  \n",
      "/home/sxchao/bayesmf/models/bmf.py:97: RuntimeWarning: invalid value encountered in double_scalars\n",
      "  \n",
      "/home/sxchao/bayesmf/models/bmf.py:97: RuntimeWarning: invalid value encountered in double_scalars\n",
      "  \n"
     ]
    },
    {
     "name": "stdout",
     "output_type": "stream",
     "text": [
      "\n"
     ]
    },
    {
     "data": {
      "application/vnd.jupyter.widget-view+json": {
       "model_id": "03ec9ceead68476f9c5b854ad49e942f",
       "version_major": 2,
       "version_minor": 0
      },
      "text/plain": [
       "HBox(children=(IntProgress(value=0, description='method', max=10, style=ProgressStyle(description_width='initi…"
      ]
     },
     "metadata": {},
     "output_type": "display_data"
    },
    {
     "name": "stderr",
     "output_type": "stream",
     "text": [
      "/home/sxchao/bayesmf/models/bmf.py:97: RuntimeWarning: invalid value encountered in double_scalars\n",
      "  \n",
      "/home/sxchao/bayesmf/models/bmf.py:97: RuntimeWarning: invalid value encountered in double_scalars\n",
      "  \n",
      "/home/sxchao/bayesmf/models/bmf.py:97: RuntimeWarning: invalid value encountered in double_scalars\n",
      "  \n",
      "/home/sxchao/bayesmf/models/bmf.py:97: RuntimeWarning: invalid value encountered in double_scalars\n",
      "  \n",
      "/home/sxchao/bayesmf/models/bmf.py:97: RuntimeWarning: invalid value encountered in double_scalars\n",
      "  \n",
      "/home/sxchao/bayesmf/models/bmf.py:97: RuntimeWarning: invalid value encountered in double_scalars\n",
      "  \n",
      "/home/sxchao/bayesmf/models/bmf.py:97: RuntimeWarning: invalid value encountered in double_scalars\n",
      "  \n",
      "/home/sxchao/bayesmf/models/bmf.py:97: RuntimeWarning: invalid value encountered in double_scalars\n",
      "  \n",
      "/home/sxchao/bayesmf/models/bmf.py:97: RuntimeWarning: invalid value encountered in double_scalars\n",
      "  \n",
      "/home/sxchao/bayesmf/models/bmf.py:97: RuntimeWarning: invalid value encountered in double_scalars\n",
      "  \n"
     ]
    },
    {
     "name": "stdout",
     "output_type": "stream",
     "text": [
      "\n"
     ]
    },
    {
     "data": {
      "application/vnd.jupyter.widget-view+json": {
       "model_id": "778de6a8ab7141e19075d8e01c1578f7",
       "version_major": 2,
       "version_minor": 0
      },
      "text/plain": [
       "HBox(children=(IntProgress(value=0, description='method', max=10, style=ProgressStyle(description_width='initi…"
      ]
     },
     "metadata": {},
     "output_type": "display_data"
    },
    {
     "name": "stderr",
     "output_type": "stream",
     "text": [
      "/home/sxchao/bayesmf/models/bmf.py:97: RuntimeWarning: invalid value encountered in double_scalars\n",
      "  \n",
      "/home/sxchao/bayesmf/models/bmf.py:97: RuntimeWarning: invalid value encountered in double_scalars\n",
      "  \n",
      "/home/sxchao/bayesmf/models/bmf.py:97: RuntimeWarning: invalid value encountered in double_scalars\n",
      "  \n",
      "/home/sxchao/bayesmf/models/bmf.py:97: RuntimeWarning: invalid value encountered in double_scalars\n",
      "  \n",
      "/home/sxchao/bayesmf/models/bmf.py:97: RuntimeWarning: invalid value encountered in double_scalars\n",
      "  \n",
      "/home/sxchao/bayesmf/models/bmf.py:97: RuntimeWarning: invalid value encountered in double_scalars\n",
      "  \n",
      "/home/sxchao/bayesmf/models/bmf.py:97: RuntimeWarning: invalid value encountered in double_scalars\n",
      "  \n",
      "/home/sxchao/bayesmf/models/bmf.py:97: RuntimeWarning: invalid value encountered in double_scalars\n",
      "  \n",
      "/home/sxchao/bayesmf/models/bmf.py:97: RuntimeWarning: invalid value encountered in double_scalars\n",
      "  \n",
      "/home/sxchao/bayesmf/models/bmf.py:97: RuntimeWarning: invalid value encountered in double_scalars\n",
      "  \n"
     ]
    },
    {
     "name": "stdout",
     "output_type": "stream",
     "text": [
      "\n"
     ]
    },
    {
     "data": {
      "application/vnd.jupyter.widget-view+json": {
       "model_id": "38778b18e1004b0c95c7369317be792d",
       "version_major": 2,
       "version_minor": 0
      },
      "text/plain": [
       "HBox(children=(IntProgress(value=0, description='method', max=10, style=ProgressStyle(description_width='initi…"
      ]
     },
     "metadata": {},
     "output_type": "display_data"
    },
    {
     "name": "stderr",
     "output_type": "stream",
     "text": [
      "/home/sxchao/bayesmf/models/bmf.py:97: RuntimeWarning: invalid value encountered in double_scalars\n",
      "  \n",
      "/home/sxchao/bayesmf/models/bmf.py:97: RuntimeWarning: invalid value encountered in double_scalars\n",
      "  \n",
      "/home/sxchao/bayesmf/models/bmf.py:97: RuntimeWarning: invalid value encountered in double_scalars\n",
      "  \n",
      "/home/sxchao/bayesmf/models/bmf.py:97: RuntimeWarning: invalid value encountered in double_scalars\n",
      "  \n",
      "/home/sxchao/bayesmf/models/bmf.py:97: RuntimeWarning: invalid value encountered in double_scalars\n",
      "  \n",
      "/home/sxchao/bayesmf/models/bmf.py:97: RuntimeWarning: invalid value encountered in double_scalars\n",
      "  \n",
      "/home/sxchao/bayesmf/models/bmf.py:97: RuntimeWarning: invalid value encountered in double_scalars\n",
      "  \n",
      "/home/sxchao/bayesmf/models/bmf.py:97: RuntimeWarning: invalid value encountered in double_scalars\n",
      "  \n",
      "/home/sxchao/bayesmf/models/bmf.py:97: RuntimeWarning: invalid value encountered in double_scalars\n",
      "  \n",
      "/home/sxchao/bayesmf/models/bmf.py:97: RuntimeWarning: invalid value encountered in double_scalars\n",
      "  \n"
     ]
    },
    {
     "name": "stdout",
     "output_type": "stream",
     "text": [
      "\n"
     ]
    },
    {
     "data": {
      "application/vnd.jupyter.widget-view+json": {
       "model_id": "0ee2bc30c3eb4ab0b28d8ea1590c4a0d",
       "version_major": 2,
       "version_minor": 0
      },
      "text/plain": [
       "HBox(children=(IntProgress(value=0, description='method', max=10, style=ProgressStyle(description_width='initi…"
      ]
     },
     "metadata": {},
     "output_type": "display_data"
    },
    {
     "name": "stderr",
     "output_type": "stream",
     "text": [
      "/home/sxchao/bayesmf/models/bmf.py:97: RuntimeWarning: invalid value encountered in double_scalars\n",
      "  \n",
      "/home/sxchao/bayesmf/models/bmf.py:97: RuntimeWarning: invalid value encountered in double_scalars\n",
      "  \n",
      "/home/sxchao/bayesmf/models/bmf.py:97: RuntimeWarning: invalid value encountered in double_scalars\n",
      "  \n",
      "/home/sxchao/bayesmf/models/bmf.py:97: RuntimeWarning: invalid value encountered in double_scalars\n",
      "  \n",
      "/home/sxchao/bayesmf/models/bmf.py:97: RuntimeWarning: invalid value encountered in double_scalars\n",
      "  \n",
      "/home/sxchao/bayesmf/models/bmf.py:97: RuntimeWarning: invalid value encountered in double_scalars\n",
      "  \n",
      "/home/sxchao/bayesmf/models/bmf.py:97: RuntimeWarning: invalid value encountered in double_scalars\n",
      "  \n",
      "/home/sxchao/bayesmf/models/bmf.py:97: RuntimeWarning: invalid value encountered in double_scalars\n",
      "  \n",
      "/home/sxchao/bayesmf/models/bmf.py:97: RuntimeWarning: invalid value encountered in double_scalars\n",
      "  \n",
      "/home/sxchao/bayesmf/models/bmf.py:97: RuntimeWarning: invalid value encountered in double_scalars\n",
      "  \n"
     ]
    },
    {
     "name": "stdout",
     "output_type": "stream",
     "text": [
      "\n",
      "\n"
     ]
    }
   ],
   "source": [
    "errs2, durs2 = run_kfold_xval(X, kfold=10)"
   ]
  },
  {
   "cell_type": "code",
   "execution_count": 45,
   "metadata": {
    "scrolled": true
   },
   "outputs": [
    {
     "data": {
      "application/vnd.jupyter.widget-view+json": {
       "model_id": "ec44d68b804e455abf5fe429434f7dfe",
       "version_major": 2,
       "version_minor": 0
      },
      "text/plain": [
       "HBox(children=(IntProgress(value=0, description='k-soln', max=5, style=ProgressStyle(description_width='initia…"
      ]
     },
     "metadata": {},
     "output_type": "display_data"
    },
    {
     "data": {
      "application/vnd.jupyter.widget-view+json": {
       "model_id": "4e11208713b146de819776ceeadf67f2",
       "version_major": 2,
       "version_minor": 0
      },
      "text/plain": [
       "HBox(children=(IntProgress(value=0, description='method', max=5, style=ProgressStyle(description_width='initia…"
      ]
     },
     "metadata": {},
     "output_type": "display_data"
    },
    {
     "name": "stderr",
     "output_type": "stream",
     "text": [
      "/home/sxchao/bayesmf/models/bmf.py:97: RuntimeWarning: invalid value encountered in double_scalars\n",
      "  \n",
      "/home/sxchao/bayesmf/models/bmf.py:97: RuntimeWarning: invalid value encountered in double_scalars\n",
      "  \n",
      "/home/sxchao/bayesmf/models/bmf.py:97: RuntimeWarning: invalid value encountered in double_scalars\n",
      "  \n",
      "/home/sxchao/bayesmf/models/bmf.py:97: RuntimeWarning: invalid value encountered in double_scalars\n",
      "  \n",
      "/home/sxchao/bayesmf/models/bmf.py:97: RuntimeWarning: invalid value encountered in double_scalars\n",
      "  \n"
     ]
    },
    {
     "name": "stdout",
     "output_type": "stream",
     "text": [
      "\n"
     ]
    },
    {
     "data": {
      "application/vnd.jupyter.widget-view+json": {
       "model_id": "7b516a90e4204c788920b95a655a1381",
       "version_major": 2,
       "version_minor": 0
      },
      "text/plain": [
       "HBox(children=(IntProgress(value=0, description='method', max=5, style=ProgressStyle(description_width='initia…"
      ]
     },
     "metadata": {},
     "output_type": "display_data"
    },
    {
     "name": "stderr",
     "output_type": "stream",
     "text": [
      "/home/sxchao/bayesmf/models/bmf.py:97: RuntimeWarning: invalid value encountered in double_scalars\n",
      "  \n",
      "/home/sxchao/bayesmf/models/bmf.py:97: RuntimeWarning: invalid value encountered in double_scalars\n",
      "  \n",
      "/home/sxchao/bayesmf/models/bmf.py:97: RuntimeWarning: invalid value encountered in double_scalars\n",
      "  \n",
      "/home/sxchao/bayesmf/models/bmf.py:97: RuntimeWarning: invalid value encountered in double_scalars\n",
      "  \n",
      "/home/sxchao/bayesmf/models/bmf.py:97: RuntimeWarning: invalid value encountered in double_scalars\n",
      "  \n"
     ]
    },
    {
     "name": "stdout",
     "output_type": "stream",
     "text": [
      "\n"
     ]
    },
    {
     "data": {
      "application/vnd.jupyter.widget-view+json": {
       "model_id": "19d30e9bed054aa6adc9213934732a02",
       "version_major": 2,
       "version_minor": 0
      },
      "text/plain": [
       "HBox(children=(IntProgress(value=0, description='method', max=5, style=ProgressStyle(description_width='initia…"
      ]
     },
     "metadata": {},
     "output_type": "display_data"
    },
    {
     "name": "stderr",
     "output_type": "stream",
     "text": [
      "/home/sxchao/bayesmf/models/bmf.py:97: RuntimeWarning: invalid value encountered in double_scalars\n",
      "  \n",
      "/home/sxchao/bayesmf/models/bmf.py:97: RuntimeWarning: invalid value encountered in double_scalars\n",
      "  \n",
      "/home/sxchao/bayesmf/models/bmf.py:97: RuntimeWarning: invalid value encountered in double_scalars\n",
      "  \n",
      "/home/sxchao/bayesmf/models/bmf.py:97: RuntimeWarning: invalid value encountered in double_scalars\n",
      "  \n",
      "/home/sxchao/bayesmf/models/bmf.py:97: RuntimeWarning: invalid value encountered in double_scalars\n",
      "  \n"
     ]
    },
    {
     "name": "stdout",
     "output_type": "stream",
     "text": [
      "\n"
     ]
    },
    {
     "data": {
      "application/vnd.jupyter.widget-view+json": {
       "model_id": "f1c799b87f1b4b14b53624da950e81cc",
       "version_major": 2,
       "version_minor": 0
      },
      "text/plain": [
       "HBox(children=(IntProgress(value=0, description='method', max=5, style=ProgressStyle(description_width='initia…"
      ]
     },
     "metadata": {},
     "output_type": "display_data"
    },
    {
     "name": "stderr",
     "output_type": "stream",
     "text": [
      "/home/sxchao/bayesmf/models/bmf.py:97: RuntimeWarning: invalid value encountered in double_scalars\n",
      "  \n",
      "/home/sxchao/bayesmf/models/bmf.py:97: RuntimeWarning: invalid value encountered in double_scalars\n",
      "  \n",
      "/home/sxchao/bayesmf/models/bmf.py:97: RuntimeWarning: invalid value encountered in double_scalars\n",
      "  \n",
      "/home/sxchao/bayesmf/models/bmf.py:97: RuntimeWarning: invalid value encountered in double_scalars\n",
      "  \n",
      "/home/sxchao/bayesmf/models/bmf.py:97: RuntimeWarning: invalid value encountered in double_scalars\n",
      "  \n"
     ]
    },
    {
     "name": "stdout",
     "output_type": "stream",
     "text": [
      "\n"
     ]
    },
    {
     "data": {
      "application/vnd.jupyter.widget-view+json": {
       "model_id": "1307a9cc53b443a5a4d23b87a5d25d50",
       "version_major": 2,
       "version_minor": 0
      },
      "text/plain": [
       "HBox(children=(IntProgress(value=0, description='method', max=5, style=ProgressStyle(description_width='initia…"
      ]
     },
     "metadata": {},
     "output_type": "display_data"
    },
    {
     "name": "stderr",
     "output_type": "stream",
     "text": [
      "/home/sxchao/bayesmf/models/bmf.py:97: RuntimeWarning: invalid value encountered in double_scalars\n",
      "  \n",
      "/home/sxchao/bayesmf/models/bmf.py:97: RuntimeWarning: invalid value encountered in double_scalars\n",
      "  \n",
      "/home/sxchao/bayesmf/models/bmf.py:97: RuntimeWarning: invalid value encountered in double_scalars\n",
      "  \n",
      "/home/sxchao/bayesmf/models/bmf.py:97: RuntimeWarning: invalid value encountered in double_scalars\n",
      "  \n",
      "/home/sxchao/bayesmf/models/bmf.py:97: RuntimeWarning: invalid value encountered in double_scalars\n",
      "  \n"
     ]
    },
    {
     "name": "stdout",
     "output_type": "stream",
     "text": [
      "\n",
      "\n"
     ]
    }
   ],
   "source": [
    "errs3, durs3 = run_kfold_xval(X, random_state=None)"
   ]
  },
  {
   "cell_type": "code",
   "execution_count": 51,
   "metadata": {
    "scrolled": true
   },
   "outputs": [
    {
     "data": {
      "application/vnd.jupyter.widget-view+json": {
       "model_id": "bdf35ee3c68c45188c58fb7840bce349",
       "version_major": 2,
       "version_minor": 0
      },
      "text/plain": [
       "HBox(children=(IntProgress(value=0, description='k-soln', max=5, style=ProgressStyle(description_width='initia…"
      ]
     },
     "metadata": {},
     "output_type": "display_data"
    },
    {
     "data": {
      "application/vnd.jupyter.widget-view+json": {
       "model_id": "b4c9c6345ccc4986a9358f297e5fb772",
       "version_major": 2,
       "version_minor": 0
      },
      "text/plain": [
       "HBox(children=(IntProgress(value=0, description='method', max=5, style=ProgressStyle(description_width='initia…"
      ]
     },
     "metadata": {},
     "output_type": "display_data"
    },
    {
     "name": "stderr",
     "output_type": "stream",
     "text": [
      "/home/sxchao/bayesmf/models/bmf.py:97: RuntimeWarning: invalid value encountered in double_scalars\n",
      "  \n",
      "/home/sxchao/bayesmf/models/bmf.py:97: RuntimeWarning: invalid value encountered in double_scalars\n",
      "  \n",
      "/home/sxchao/bayesmf/models/bmf.py:97: RuntimeWarning: invalid value encountered in double_scalars\n",
      "  \n",
      "/home/sxchao/bayesmf/models/bmf.py:97: RuntimeWarning: invalid value encountered in double_scalars\n",
      "  \n",
      "/home/sxchao/bayesmf/models/bmf.py:97: RuntimeWarning: invalid value encountered in double_scalars\n",
      "  \n"
     ]
    },
    {
     "name": "stdout",
     "output_type": "stream",
     "text": [
      "\n"
     ]
    },
    {
     "data": {
      "application/vnd.jupyter.widget-view+json": {
       "model_id": "2227616aa86042e8a519d7c4913fec02",
       "version_major": 2,
       "version_minor": 0
      },
      "text/plain": [
       "HBox(children=(IntProgress(value=0, description='method', max=5, style=ProgressStyle(description_width='initia…"
      ]
     },
     "metadata": {},
     "output_type": "display_data"
    },
    {
     "name": "stderr",
     "output_type": "stream",
     "text": [
      "/home/sxchao/bayesmf/models/bmf.py:97: RuntimeWarning: invalid value encountered in double_scalars\n",
      "  \n",
      "/home/sxchao/bayesmf/models/bmf.py:97: RuntimeWarning: invalid value encountered in double_scalars\n",
      "  \n",
      "/home/sxchao/bayesmf/models/bmf.py:97: RuntimeWarning: invalid value encountered in double_scalars\n",
      "  \n",
      "/home/sxchao/bayesmf/models/bmf.py:97: RuntimeWarning: invalid value encountered in double_scalars\n",
      "  \n",
      "/home/sxchao/bayesmf/models/bmf.py:97: RuntimeWarning: invalid value encountered in double_scalars\n",
      "  \n"
     ]
    },
    {
     "name": "stdout",
     "output_type": "stream",
     "text": [
      "\n"
     ]
    },
    {
     "data": {
      "application/vnd.jupyter.widget-view+json": {
       "model_id": "e1271e7915a149378dc914c147a22a51",
       "version_major": 2,
       "version_minor": 0
      },
      "text/plain": [
       "HBox(children=(IntProgress(value=0, description='method', max=5, style=ProgressStyle(description_width='initia…"
      ]
     },
     "metadata": {},
     "output_type": "display_data"
    },
    {
     "name": "stderr",
     "output_type": "stream",
     "text": [
      "/home/sxchao/bayesmf/models/bmf.py:97: RuntimeWarning: invalid value encountered in double_scalars\n",
      "  \n",
      "/home/sxchao/bayesmf/models/bmf.py:97: RuntimeWarning: invalid value encountered in double_scalars\n",
      "  \n",
      "/home/sxchao/bayesmf/models/bmf.py:97: RuntimeWarning: invalid value encountered in double_scalars\n",
      "  \n",
      "/home/sxchao/bayesmf/models/bmf.py:97: RuntimeWarning: invalid value encountered in double_scalars\n",
      "  \n",
      "/home/sxchao/bayesmf/models/bmf.py:97: RuntimeWarning: invalid value encountered in double_scalars\n",
      "  \n"
     ]
    },
    {
     "name": "stdout",
     "output_type": "stream",
     "text": [
      "\n"
     ]
    },
    {
     "data": {
      "application/vnd.jupyter.widget-view+json": {
       "model_id": "db0bd8d20ac94a11a14c9378e0e4a60e",
       "version_major": 2,
       "version_minor": 0
      },
      "text/plain": [
       "HBox(children=(IntProgress(value=0, description='method', max=5, style=ProgressStyle(description_width='initia…"
      ]
     },
     "metadata": {},
     "output_type": "display_data"
    },
    {
     "name": "stderr",
     "output_type": "stream",
     "text": [
      "/home/sxchao/bayesmf/models/bmf.py:97: RuntimeWarning: invalid value encountered in double_scalars\n",
      "  \n",
      "/home/sxchao/bayesmf/models/bmf.py:97: RuntimeWarning: invalid value encountered in double_scalars\n",
      "  \n",
      "/home/sxchao/bayesmf/models/bmf.py:97: RuntimeWarning: invalid value encountered in double_scalars\n",
      "  \n",
      "/home/sxchao/bayesmf/models/bmf.py:97: RuntimeWarning: invalid value encountered in double_scalars\n",
      "  \n",
      "/home/sxchao/bayesmf/models/bmf.py:97: RuntimeWarning: invalid value encountered in double_scalars\n",
      "  \n"
     ]
    },
    {
     "name": "stdout",
     "output_type": "stream",
     "text": [
      "\n"
     ]
    },
    {
     "data": {
      "application/vnd.jupyter.widget-view+json": {
       "model_id": "d82e641b7fd64f3b8410139f8b1e6b2e",
       "version_major": 2,
       "version_minor": 0
      },
      "text/plain": [
       "HBox(children=(IntProgress(value=0, description='method', max=5, style=ProgressStyle(description_width='initia…"
      ]
     },
     "metadata": {},
     "output_type": "display_data"
    },
    {
     "name": "stderr",
     "output_type": "stream",
     "text": [
      "/home/sxchao/bayesmf/models/bmf.py:97: RuntimeWarning: invalid value encountered in double_scalars\n",
      "  \n",
      "/home/sxchao/bayesmf/models/bmf.py:97: RuntimeWarning: invalid value encountered in double_scalars\n",
      "  \n",
      "/home/sxchao/bayesmf/models/bmf.py:97: RuntimeWarning: invalid value encountered in double_scalars\n",
      "  \n",
      "/home/sxchao/bayesmf/models/bmf.py:97: RuntimeWarning: invalid value encountered in double_scalars\n",
      "  \n",
      "/home/sxchao/bayesmf/models/bmf.py:97: RuntimeWarning: invalid value encountered in double_scalars\n",
      "  \n"
     ]
    },
    {
     "name": "stdout",
     "output_type": "stream",
     "text": [
      "\n",
      "\n"
     ]
    }
   ],
   "source": [
    "errs4, durs4 = run_kfold_xval(X, components = [30, 35, 40, 45, 50])"
   ]
  },
  {
   "cell_type": "code",
   "execution_count": 43,
   "metadata": {
    "scrolled": true
   },
   "outputs": [
    {
     "data": {
      "text/plain": [
       "{5: {'vanilla': [0.7309537159693774,\n",
       "   0.7411502899902755,\n",
       "   0.7328949602946455,\n",
       "   0.7334042666593619,\n",
       "   0.7299659001805062],\n",
       "  'consensus': [0.7309537159693774,\n",
       "   0.7411502899902755,\n",
       "   0.7328949602946455,\n",
       "   0.733404266659362,\n",
       "   0.7299659001805062],\n",
       "  'batch': [0.8362123015094405,\n",
       "   0.8592654599826401,\n",
       "   0.8486113090505223,\n",
       "   0.846106738904791,\n",
       "   0.8508008677190954],\n",
       "  'stochastic': [0.8355813101716559,\n",
       "   0.8590086813627745,\n",
       "   0.8485315487985988,\n",
       "   0.8459601266431799,\n",
       "   0.8511634052403358]},\n",
       " 10: {'vanilla': [0.6955554629756736,\n",
       "   0.7058740574883813,\n",
       "   0.699015870356152,\n",
       "   0.697361695370032,\n",
       "   0.6931979138295534],\n",
       "  'consensus': [0.6955554629756736,\n",
       "   0.7058740574883813,\n",
       "   0.699015870356152,\n",
       "   0.697361695370032,\n",
       "   0.6931979138295535],\n",
       "  'batch': [0.8351482064424729,\n",
       "   0.8587541130149287,\n",
       "   0.8479783991861253,\n",
       "   0.8456186114680582,\n",
       "   0.8498098550238077],\n",
       "  'stochastic': [0.8349980315939528,\n",
       "   0.8585486270806878,\n",
       "   0.848178481744079,\n",
       "   0.8455235232443227,\n",
       "   0.8498425500316208]},\n",
       " 15: {'vanilla': [0.6740551465327363,\n",
       "   0.6829700874501754,\n",
       "   0.6769930404590075,\n",
       "   0.6772918483124352,\n",
       "   0.6706902856188927],\n",
       "  'consensus': [0.6740551465327363,\n",
       "   0.6829700874501754,\n",
       "   0.6769930404590075,\n",
       "   0.6772918483124352,\n",
       "   0.6706902856188927],\n",
       "  'batch': [0.8349411871633007,\n",
       "   0.8584370010759713,\n",
       "   0.847587186120797,\n",
       "   0.8451329980686786,\n",
       "   0.8496955191877553],\n",
       "  'stochastic': [0.8345278536191245,\n",
       "   0.8585747417661007,\n",
       "   0.8474195201672801,\n",
       "   0.8448936324203614,\n",
       "   0.849509523249424]},\n",
       " 20: {'vanilla': [0.6594057796961146,\n",
       "   0.6678538812079713,\n",
       "   0.6604950677069008,\n",
       "   0.6624938212552282,\n",
       "   0.6560104448753272],\n",
       "  'consensus': [0.6594057796961146,\n",
       "   0.6678538812079713,\n",
       "   0.6604950677069008,\n",
       "   0.6624938212552282,\n",
       "   0.6560104448753272],\n",
       "  'batch': [0.8348673199523406,\n",
       "   0.8582119878636681,\n",
       "   0.8475671522022235,\n",
       "   0.845018514364211,\n",
       "   0.8495746439215368],\n",
       "  'stochastic': [0.8346830417344169,\n",
       "   0.8575583557265188,\n",
       "   0.8473468145489227,\n",
       "   0.8452350157248427,\n",
       "   0.8494507709925119]},\n",
       " 25: {'vanilla': [0.6458528638291391,\n",
       "   0.6558889925555775,\n",
       "   0.6491037438172051,\n",
       "   0.6501920244466192,\n",
       "   0.6438298380316778],\n",
       "  'consensus': [0.6458528638291391,\n",
       "   0.6558889925555775,\n",
       "   0.6491037438172051,\n",
       "   0.6501920244466192,\n",
       "   0.6438298380316778],\n",
       "  'batch': [0.8347404135436444,\n",
       "   0.8582572681922599,\n",
       "   0.8474347301950731,\n",
       "   0.8448281304501801,\n",
       "   0.8494166677239322],\n",
       "  'stochastic': [0.834396643796602,\n",
       "   0.8576110313532394,\n",
       "   0.8474061448880771,\n",
       "   0.8444820402061564,\n",
       "   0.8491600251381337]}}"
      ]
     },
     "execution_count": 43,
     "metadata": {},
     "output_type": "execute_result"
    }
   ],
   "source": [
    "errs"
   ]
  },
  {
   "cell_type": "code",
   "execution_count": 48,
   "metadata": {
    "scrolled": true
   },
   "outputs": [
    {
     "data": {
      "text/plain": [
       "{5: {'vanilla': [0.7309537159693774,\n",
       "   0.7411502899902755,\n",
       "   0.7328949602946455,\n",
       "   0.7334042666593619,\n",
       "   0.7299659001805062],\n",
       "  'consensus': [0.7309537159693774,\n",
       "   0.7411502899902755,\n",
       "   0.7328949602946455,\n",
       "   0.733404266659362,\n",
       "   0.7299659001805062],\n",
       "  'batch': [0.8362123015094405,\n",
       "   0.8592654599826401,\n",
       "   0.8486113090505223,\n",
       "   0.846106738904791,\n",
       "   0.8508008677190954],\n",
       "  'stochastic': [0.8355759326441797,\n",
       "   0.8590226724596725,\n",
       "   0.8485920219026037,\n",
       "   0.8460868649546225,\n",
       "   0.8510502500464865]},\n",
       " 10: {'vanilla': [0.6955554629756736,\n",
       "   0.7058740574883813,\n",
       "   0.699015870356152,\n",
       "   0.697361695370032,\n",
       "   0.6931979138295534],\n",
       "  'consensus': [0.6955554629756736,\n",
       "   0.7058740574883813,\n",
       "   0.699015870356152,\n",
       "   0.697361695370032,\n",
       "   0.6931979138295535],\n",
       "  'batch': [0.8351482064424729,\n",
       "   0.8587541130149287,\n",
       "   0.8479783991861253,\n",
       "   0.8456186114680582,\n",
       "   0.8498098550238077],\n",
       "  'stochastic': [0.8351391265540621,\n",
       "   0.8586581157738529,\n",
       "   0.8482671508063411,\n",
       "   0.8456566490584327,\n",
       "   0.8500098821323065]},\n",
       " 15: {'vanilla': [0.6740551465327363,\n",
       "   0.6829700874501754,\n",
       "   0.6769930404590075,\n",
       "   0.6772918483124352,\n",
       "   0.6706902856188927],\n",
       "  'consensus': [0.6740551465327363,\n",
       "   0.6829700874501754,\n",
       "   0.6769930404590075,\n",
       "   0.6772918483124352,\n",
       "   0.6706902856188927],\n",
       "  'batch': [0.8349411871633007,\n",
       "   0.8584370010759713,\n",
       "   0.847587186120797,\n",
       "   0.8451329980686786,\n",
       "   0.8496955191877553],\n",
       "  'stochastic': [0.8348260898304494,\n",
       "   0.858839154350322,\n",
       "   0.8476700316593655,\n",
       "   0.8452107176445884,\n",
       "   0.8497003881628507]},\n",
       " 20: {'vanilla': [0.6594057796961146,\n",
       "   0.6678538812079713,\n",
       "   0.6604950677069008,\n",
       "   0.6624938212552282,\n",
       "   0.6560104448753272],\n",
       "  'consensus': [0.6594057796961146,\n",
       "   0.6678538812079713,\n",
       "   0.6604950677069008,\n",
       "   0.6624938212552282,\n",
       "   0.6560104448753272],\n",
       "  'batch': [0.8348673199523406,\n",
       "   0.8582119878636681,\n",
       "   0.8475671522022235,\n",
       "   0.845018514364211,\n",
       "   0.8495746439215368],\n",
       "  'stochastic': [0.8348597380571244,\n",
       "   0.8577635420625894,\n",
       "   0.8475236493149739,\n",
       "   0.8453480128076488,\n",
       "   0.849616450608191]},\n",
       " 25: {'vanilla': [0.6458528638291391,\n",
       "   0.6558889925555775,\n",
       "   0.6491037438172051,\n",
       "   0.6501920244466192,\n",
       "   0.6438298380316778],\n",
       "  'consensus': [0.6458528638291391,\n",
       "   0.6558889925555775,\n",
       "   0.6491037438172051,\n",
       "   0.6501920244466192,\n",
       "   0.6438298380316778],\n",
       "  'batch': [0.8347404135436444,\n",
       "   0.8582572681922599,\n",
       "   0.8474347301950731,\n",
       "   0.8448281304501801,\n",
       "   0.8494166677239322],\n",
       "  'stochastic': [0.8349179101863619,\n",
       "   0.8581870474923016,\n",
       "   0.8478294678497983,\n",
       "   0.8449621748447524,\n",
       "   0.8497371379671258]}}"
      ]
     },
     "execution_count": 48,
     "metadata": {},
     "output_type": "execute_result"
    }
   ],
   "source": [
    "errs1b # reproducible! what about stochastic?"
   ]
  },
  {
   "cell_type": "code",
   "execution_count": 49,
   "metadata": {
    "scrolled": true
   },
   "outputs": [
    {
     "data": {
      "text/plain": [
       "{5: {'vanilla': [0.7421099900332405,\n",
       "   0.7188576011426523,\n",
       "   0.7379243689327588,\n",
       "   0.7435481981537787,\n",
       "   0.737870594495107,\n",
       "   0.7270873814417245,\n",
       "   0.7288183159973914,\n",
       "   0.737869300786264,\n",
       "   0.735858886166313,\n",
       "   0.7221513590345314],\n",
       "  'consensus': [0.7421099900332405,\n",
       "   0.7188576011426523,\n",
       "   0.7379243689327588,\n",
       "   0.7435481981537787,\n",
       "   0.7378705944951071,\n",
       "   0.7270873814417245,\n",
       "   0.7288183159973914,\n",
       "   0.7378693007862639,\n",
       "   0.735858886166313,\n",
       "   0.7221513590345314],\n",
       "  'batch': [0.846975210384389,\n",
       "   0.8246839226421258,\n",
       "   0.8638157783458038,\n",
       "   0.8549645394133554,\n",
       "   0.8516748077872279,\n",
       "   0.8458879919153788,\n",
       "   0.8364315602306459,\n",
       "   0.8555026524695003,\n",
       "   0.8456628836704905,\n",
       "   0.8549289995160062],\n",
       "  'stochastic': [0.8467258853599842,\n",
       "   0.825047330430749,\n",
       "   0.8632503969804582,\n",
       "   0.8544746804965541,\n",
       "   0.8516596057030322,\n",
       "   0.8453500328152531,\n",
       "   0.8366215640568693,\n",
       "   0.8556695516900804,\n",
       "   0.8460795349686109,\n",
       "   0.8550968711184854]},\n",
       " 10: {'vanilla': [0.7060471472423284,\n",
       "   0.683162237626211,\n",
       "   0.7033187056515142,\n",
       "   0.7071693447785515,\n",
       "   0.7033368131115557,\n",
       "   0.6929383743799552,\n",
       "   0.6940608225394903,\n",
       "   0.699721646410188,\n",
       "   0.6995699005660361,\n",
       "   0.687284313656083],\n",
       "  'consensus': [0.7060471472423284,\n",
       "   0.683162237626211,\n",
       "   0.7033187056515142,\n",
       "   0.7071693447785515,\n",
       "   0.7033368131115557,\n",
       "   0.6929383743799552,\n",
       "   0.6940608225394903,\n",
       "   0.699721646410188,\n",
       "   0.6995699005660361,\n",
       "   0.687284313656083],\n",
       "  'batch': [0.8459708737851498,\n",
       "   0.8240760464371668,\n",
       "   0.8629387796043361,\n",
       "   0.854204200594505,\n",
       "   0.8504860053907275,\n",
       "   0.8447963059761976,\n",
       "   0.835484755995714,\n",
       "   0.854740188758168,\n",
       "   0.8449584688479201,\n",
       "   0.8541387139200771],\n",
       "  'stochastic': [0.8463442349339656,\n",
       "   0.8245478529424558,\n",
       "   0.862654076270978,\n",
       "   0.8547412012113007,\n",
       "   0.850579178372375,\n",
       "   0.8457051013883298,\n",
       "   0.8362071145954235,\n",
       "   0.8553996911893598,\n",
       "   0.8452800035405481,\n",
       "   0.853950420729185]},\n",
       " 15: {'vanilla': [0.6811851721273334,\n",
       "   0.6633709178321794,\n",
       "   0.681479182914112,\n",
       "   0.6848280359503439,\n",
       "   0.6775223918955063,\n",
       "   0.6735658771533779,\n",
       "   0.6753862265631551,\n",
       "   0.6792279077154512,\n",
       "   0.673900765354059,\n",
       "   0.6659477704012223],\n",
       "  'consensus': [0.6811851721273334,\n",
       "   0.6633709178321794,\n",
       "   0.681479182914112,\n",
       "   0.6848280359503439,\n",
       "   0.6775223918955063,\n",
       "   0.6735658771533779,\n",
       "   0.6753862265631551,\n",
       "   0.6792279077154512,\n",
       "   0.6739007653540589,\n",
       "   0.6659477704012223],\n",
       "  'batch': [0.8459684000069606,\n",
       "   0.8238758728862204,\n",
       "   0.8626257687045737,\n",
       "   0.854032331814433,\n",
       "   0.8503046957162607,\n",
       "   0.8444929172294569,\n",
       "   0.835721858309776,\n",
       "   0.8545800567330814,\n",
       "   0.8448728983434741,\n",
       "   0.8540533941055701],\n",
       "  'stochastic': [0.8462220344511078,\n",
       "   0.82472388159464,\n",
       "   0.8629548739270816,\n",
       "   0.8549934470142757,\n",
       "   0.8501062552739931,\n",
       "   0.8453201955785743,\n",
       "   0.8358721968711949,\n",
       "   0.8548032476791444,\n",
       "   0.8451333107904894,\n",
       "   0.8541733567541333]},\n",
       " 20: {'vanilla': [0.665703823667662,\n",
       "   0.6490928409197616,\n",
       "   0.6642947652039497,\n",
       "   0.6685362717977718,\n",
       "   0.659358776609373,\n",
       "   0.6580469890361383,\n",
       "   0.6597914972820429,\n",
       "   0.6648213698209465,\n",
       "   0.6598604649550186,\n",
       "   0.6507547578426858],\n",
       "  'consensus': [0.6657038236676621,\n",
       "   0.6490928409197616,\n",
       "   0.6642947652039497,\n",
       "   0.6685362717977718,\n",
       "   0.659358776609373,\n",
       "   0.6580469890361383,\n",
       "   0.6597914972820429,\n",
       "   0.6648213698209465,\n",
       "   0.6598604649550186,\n",
       "   0.6507547578426858],\n",
       "  'batch': [0.8457587967971535,\n",
       "   0.8237367804682222,\n",
       "   0.862698278710444,\n",
       "   0.8540711856737165,\n",
       "   0.8501052143800495,\n",
       "   0.8443778688700357,\n",
       "   0.8355167699209409,\n",
       "   0.8546710538649083,\n",
       "   0.8449770843266414,\n",
       "   0.853689934578392],\n",
       "  'stochastic': [0.8463788920807116,\n",
       "   0.8237208116056708,\n",
       "   0.8628753515837663,\n",
       "   0.854976858064627,\n",
       "   0.8496754983296331,\n",
       "   0.8442549019976329,\n",
       "   0.8354403561183863,\n",
       "   0.8549763313732847,\n",
       "   0.8449815743203732,\n",
       "   0.8536152345617807]},\n",
       " 25: {'vanilla': [0.6542982915520262,\n",
       "   0.637455254654835,\n",
       "   0.6523438422363436,\n",
       "   0.6578199926422691,\n",
       "   0.6485933343724158,\n",
       "   0.6470466075122228,\n",
       "   0.6472327554943378,\n",
       "   0.6518252439337457,\n",
       "   0.6469971688861863,\n",
       "   0.6368157588424787],\n",
       "  'consensus': [0.6542982915520262,\n",
       "   0.637455254654835,\n",
       "   0.6523438422363436,\n",
       "   0.657819992642269,\n",
       "   0.6485933343724158,\n",
       "   0.6470466075122226,\n",
       "   0.6472327554943378,\n",
       "   0.6518252439337457,\n",
       "   0.6469971688861863,\n",
       "   0.6368157588424787],\n",
       "  'batch': [0.8456652893980655,\n",
       "   0.8236259863023608,\n",
       "   0.8625745217749496,\n",
       "   0.8538362419091337,\n",
       "   0.8500717939952108,\n",
       "   0.8442882973145649,\n",
       "   0.8356025577942852,\n",
       "   0.8545278826448289,\n",
       "   0.8446686321164087,\n",
       "   0.8538413313747667],\n",
       "  'stochastic': [0.8457253616163687,\n",
       "   0.8241665683265246,\n",
       "   0.8625203869444934,\n",
       "   0.8534415546227246,\n",
       "   0.8508402285833145,\n",
       "   0.8447322178258515,\n",
       "   0.8355480055235746,\n",
       "   0.8544429782548414,\n",
       "   0.8448798932253774,\n",
       "   0.8541292790851411]}}"
      ]
     },
     "execution_count": 49,
     "metadata": {},
     "output_type": "execute_result"
    }
   ],
   "source": [
    "errs2 # 10-fold not much better (0.845 vs 0.846)"
   ]
  },
  {
   "cell_type": "code",
   "execution_count": 46,
   "metadata": {
    "scrolled": true
   },
   "outputs": [
    {
     "data": {
      "text/plain": [
       "{5: {'vanilla': [0.7286927795491629,\n",
       "   0.742868886734532,\n",
       "   0.7333038630747885,\n",
       "   0.7275289507200621,\n",
       "   0.7336983791099233],\n",
       "  'consensus': [0.7286927795491629,\n",
       "   0.742868886734532,\n",
       "   0.7333038630747885,\n",
       "   0.7275289507200621,\n",
       "   0.7336983791099233],\n",
       "  'batch': [0.8410375341212287,\n",
       "   0.8605262053048189,\n",
       "   0.8439608059926396,\n",
       "   0.8439293530470152,\n",
       "   0.8511415563684755],\n",
       "  'stochastic': [0.840923560149267,\n",
       "   0.8605229845533225,\n",
       "   0.8436635488474925,\n",
       "   0.8431394172953056,\n",
       "   0.8510542143061186]},\n",
       " 10: {'vanilla': [0.6945549325876011,\n",
       "   0.705994980614963,\n",
       "   0.6965534072717715,\n",
       "   0.6938646994955234,\n",
       "   0.6981413074624602],\n",
       "  'consensus': [0.6945549325876011,\n",
       "   0.705994980614963,\n",
       "   0.6965534072717715,\n",
       "   0.6938646994955235,\n",
       "   0.6981413074624602],\n",
       "  'batch': [0.8401899138408566,\n",
       "   0.859984889212223,\n",
       "   0.8431413404484958,\n",
       "   0.8431140494354844,\n",
       "   0.850434510569595],\n",
       "  'stochastic': [0.8406307327459109,\n",
       "   0.8599023325005396,\n",
       "   0.8434803352699355,\n",
       "   0.8437687069314493,\n",
       "   0.8505312072591884]},\n",
       " 15: {'vanilla': [0.6728081860103692,\n",
       "   0.6867692336255786,\n",
       "   0.6739679546518084,\n",
       "   0.6728194893765379,\n",
       "   0.676227727040061],\n",
       "  'consensus': [0.6728081860103692,\n",
       "   0.6867692336255786,\n",
       "   0.6739679546518084,\n",
       "   0.672819489376538,\n",
       "   0.676227727040061],\n",
       "  'batch': [0.8398472690919944,\n",
       "   0.859633908221524,\n",
       "   0.8428279328748557,\n",
       "   0.8430298276357399,\n",
       "   0.8502906946365069],\n",
       "  'stochastic': [0.8400062803614959,\n",
       "   0.8599003423551834,\n",
       "   0.8429099331992468,\n",
       "   0.8428835530659101,\n",
       "   0.8502350735201143]},\n",
       " 20: {'vanilla': [0.6563034528801458,\n",
       "   0.671662730516003,\n",
       "   0.6575006710540169,\n",
       "   0.6567895652894745,\n",
       "   0.6619485372362323],\n",
       "  'consensus': [0.6563034528801458,\n",
       "   0.671662730516003,\n",
       "   0.6575006710540169,\n",
       "   0.6567895652894746,\n",
       "   0.6619485372362323],\n",
       "  'batch': [0.8396766910458694,\n",
       "   0.8597241787932145,\n",
       "   0.8427273522183941,\n",
       "   0.8427045608232892,\n",
       "   0.8498791612819426],\n",
       "  'stochastic': [0.8399138061365723,\n",
       "   0.8594990515736812,\n",
       "   0.8426685975358469,\n",
       "   0.8423921012582658,\n",
       "   0.8499998843478698]},\n",
       " 25: {'vanilla': [0.6443838866805556,\n",
       "   0.658583885825418,\n",
       "   0.6442611865085873,\n",
       "   0.6447566914872622,\n",
       "   0.6506118691020162],\n",
       "  'consensus': [0.6443838866805556,\n",
       "   0.658583885825418,\n",
       "   0.6442611865085873,\n",
       "   0.6447566914872622,\n",
       "   0.6506118691020162],\n",
       "  'batch': [0.83975730313774,\n",
       "   0.8594693106621485,\n",
       "   0.8427390734199581,\n",
       "   0.8427848035782111,\n",
       "   0.849801209028646],\n",
       "  'stochastic': [0.8397330415089508,\n",
       "   0.8594351628748985,\n",
       "   0.8424825149604778,\n",
       "   0.8425159440583255,\n",
       "   0.8500137947574481]}}"
      ]
     },
     "execution_count": 46,
     "metadata": {},
     "output_type": "execute_result"
    }
   ],
   "source": [
    "errs3 # randomizing no diff (0.846)"
   ]
  },
  {
   "cell_type": "code",
   "execution_count": 52,
   "metadata": {
    "scrolled": true
   },
   "outputs": [
    {
     "data": {
      "text/plain": [
       "{30: {'vanilla': [0.6366519075077789,\n",
       "   0.6469961679513248,\n",
       "   0.6397357183988329,\n",
       "   0.6408071302599684,\n",
       "   0.6348853859166967],\n",
       "  'consensus': [0.6366519075077789,\n",
       "   0.6469961679513248,\n",
       "   0.6397357183988329,\n",
       "   0.6408071302599684,\n",
       "   0.6348853859166967],\n",
       "  'batch': [0.8346194426503732,\n",
       "   0.8582198740866334,\n",
       "   0.8475194133948708,\n",
       "   0.844950450639336,\n",
       "   0.8493209129752428],\n",
       "  'stochastic': [0.8347138513044767,\n",
       "   0.8577249965020468,\n",
       "   0.8476290837166367,\n",
       "   0.8450254554731773,\n",
       "   0.8494315172207898]},\n",
       " 35: {'vanilla': [0.6287629429896658,\n",
       "   0.6385611762318305,\n",
       "   0.6315361097089225,\n",
       "   0.6329959540070111,\n",
       "   0.6256981450034129],\n",
       "  'consensus': [0.6287629429896658,\n",
       "   0.6385611762318305,\n",
       "   0.6315361097089225,\n",
       "   0.6329959540070111,\n",
       "   0.625698145003413],\n",
       "  'batch': [0.8346608045556917,\n",
       "   0.8581137040684401,\n",
       "   0.8474415606796238,\n",
       "   0.8449422292776544,\n",
       "   0.84940885713054],\n",
       "  'stochastic': [0.8350422527277681,\n",
       "   0.8587181884355409,\n",
       "   0.8473843686065505,\n",
       "   0.8452936747205055,\n",
       "   0.8497560679391952]},\n",
       " 40: {'vanilla': [0.6194469534561852,\n",
       "   0.6300177951580572,\n",
       "   0.623636616669025,\n",
       "   0.6242488391106367,\n",
       "   0.619957449836076],\n",
       "  'consensus': [0.6194469534561853,\n",
       "   0.6300177951580572,\n",
       "   0.623636616669025,\n",
       "   0.6242488391106367,\n",
       "   0.619957449836076],\n",
       "  'batch': [0.834527563313918,\n",
       "   0.8582262938584186,\n",
       "   0.8473727656603715,\n",
       "   0.8448742106489742,\n",
       "   0.8494415038770572],\n",
       "  'stochastic': [0.83489873466191,\n",
       "   0.8585555490841601,\n",
       "   0.8478793206243507,\n",
       "   0.8450717770114297,\n",
       "   0.8493996282364195]},\n",
       " 45: {'vanilla': [0.6126198918390063,\n",
       "   0.6225377735056662,\n",
       "   0.6164155673297119,\n",
       "   0.6170897505844587,\n",
       "   0.6113429706184926],\n",
       "  'consensus': [0.6126198918390064,\n",
       "   0.6225377735056662,\n",
       "   0.6164155673297119,\n",
       "   0.6170897505844587,\n",
       "   0.6113429706184926],\n",
       "  'batch': [0.8345807147324408,\n",
       "   0.8582523098452001,\n",
       "   0.847443501856411,\n",
       "   0.8448681070843022,\n",
       "   0.8494005172960977],\n",
       "  'stochastic': [0.8347289053782547,\n",
       "   0.8583885089431823,\n",
       "   0.8475677683224827,\n",
       "   0.8452630466840954,\n",
       "   0.8495107966438231]},\n",
       " 50: {'vanilla': [0.6060501490149345,\n",
       "   0.6161954914692205,\n",
       "   0.6088661248144712,\n",
       "   0.6108224063266586,\n",
       "   0.6047434730629081],\n",
       "  'consensus': [0.6060501490149345,\n",
       "   0.6161954914692205,\n",
       "   0.6088661248144712,\n",
       "   0.6108224063266587,\n",
       "   0.6047434730629081],\n",
       "  'batch': [0.8346387688985609,\n",
       "   0.8581805949732727,\n",
       "   0.8472888198032623,\n",
       "   0.8449888470201709,\n",
       "   0.8493105603557717],\n",
       "  'stochastic': [0.8348503453894699,\n",
       "   0.8581667052747812,\n",
       "   0.8475434459621872,\n",
       "   0.8450061373364757,\n",
       "   0.8495540832174394]}}"
      ]
     },
     "execution_count": 52,
     "metadata": {},
     "output_type": "execute_result"
    }
   ],
   "source": [
    "errs4 # inc k doesn't seem to help w/ bmf"
   ]
  },
  {
   "cell_type": "code",
   "execution_count": 65,
   "metadata": {},
   "outputs": [],
   "source": [
    "errs = pickle.load(open('/home/sxchao/bayesmf/output/errs_050720.pkl', 'rb'))\n",
    "durs = pickle.load(open('/home/sxchao/bayesmf/output/durs_050720.pkl', 'rb'))"
   ]
  },
  {
   "cell_type": "code",
   "execution_count": 66,
   "metadata": {},
   "outputs": [
    {
     "data": {
      "text/plain": [
       "{10: {'nmf-vanilla': [1.1905583549519936,\n",
       "   1.1982790426852534,\n",
       "   1.1822382933296531,\n",
       "   1.2314287267621802,\n",
       "   1.2430676399625773,\n",
       "   1.2520524308690062,\n",
       "   1.2731036874445876,\n",
       "   1.254753063626163,\n",
       "   1.2121703279076863,\n",
       "   1.1842612326899613],\n",
       "  'nmf-consensus': [1.1913626440867795,\n",
       "   1.2313825085311894,\n",
       "   1.2244971994051874,\n",
       "   1.2664508091263602,\n",
       "   1.2856057089703707,\n",
       "   1.304839619257574,\n",
       "   1.3142298121698301,\n",
       "   1.2846501419957723,\n",
       "   1.2765205531227464,\n",
       "   1.1864378038966483],\n",
       "  'lda-batch': [2.2703394091030127,\n",
       "   2.285938822630124,\n",
       "   2.2348521732888473,\n",
       "   2.4000593805145103,\n",
       "   2.3973749725213276,\n",
       "   2.4281381187617948,\n",
       "   2.4032355361951194,\n",
       "   2.4230723750241276,\n",
       "   2.319166761861628,\n",
       "   2.3103746188722014],\n",
       "  'lda-stochastic': [2.2694912761010175,\n",
       "   2.284968772190839,\n",
       "   2.233841626975811,\n",
       "   2.3991679746660557,\n",
       "   2.396443305250417,\n",
       "   2.4275694039679556,\n",
       "   2.4025626927127197,\n",
       "   2.42217048676474,\n",
       "   2.3184201914817413,\n",
       "   2.3097023559040726],\n",
       "  'bmf-batch': [1.307895418251388,\n",
       "   1.322977266917406,\n",
       "   1.2759307326649187,\n",
       "   1.3235378908612179,\n",
       "   1.3485933812382755,\n",
       "   1.3506370257279103,\n",
       "   1.3792402884327568,\n",
       "   1.340321254283131,\n",
       "   1.296426170400274,\n",
       "   1.2592109331493488],\n",
       "  'bmf-stochastic': [1.2413429035483325,\n",
       "   1.24789596344033,\n",
       "   1.232532105399029,\n",
       "   1.2782248588288216,\n",
       "   1.3073118011153209,\n",
       "   1.3318493034588148,\n",
       "   1.3328640692529148,\n",
       "   1.3037718814377466,\n",
       "   1.2467235108833206,\n",
       "   1.2336521015872455],\n",
       "  'cmf-batch': [1.5191403896149838,\n",
       "   1.5548094670649844,\n",
       "   1.5000918034576805,\n",
       "   1.5901748554342323,\n",
       "   1.617775070511111,\n",
       "   1.6212389990595195,\n",
       "   1.6401153497164107,\n",
       "   1.6067238424479022,\n",
       "   1.5446057961367765,\n",
       "   1.5255923049852325]},\n",
       " 15: {'nmf-vanilla': [1.088432729760025,\n",
       "   1.0865876493794537,\n",
       "   1.0682140236413462,\n",
       "   1.122054013481688,\n",
       "   1.1260694155946247,\n",
       "   1.1339588443547113,\n",
       "   1.145066745257213,\n",
       "   1.1316791563980504,\n",
       "   1.0933687110889712,\n",
       "   1.0635435219489837],\n",
       "  'nmf-consensus': [1.1033497631130513,\n",
       "   1.0960077066656846,\n",
       "   1.0712606734495642,\n",
       "   1.1687547725269223,\n",
       "   1.143123741445325,\n",
       "   1.1575803395831965,\n",
       "   1.229658189610186,\n",
       "   1.1379384395286425,\n",
       "   1.103236507411818,\n",
       "   1.108226446974866],\n",
       "  'lda-batch': [2.2699013684386706,\n",
       "   2.285485482179766,\n",
       "   2.2343524287714294,\n",
       "   2.3995857634502333,\n",
       "   2.3970154970723128,\n",
       "   2.4277079532965464,\n",
       "   2.4027392043511693,\n",
       "   2.4226816442869485,\n",
       "   2.3186757663753177,\n",
       "   2.3100448562628695],\n",
       "  'lda-stochastic': [2.268925360946826,\n",
       "   2.2844925889870877,\n",
       "   2.233411598097581,\n",
       "   2.3988449928270876,\n",
       "   2.395969263155766,\n",
       "   2.4269959000953394,\n",
       "   2.4021475084842363,\n",
       "   2.422157587474489,\n",
       "   2.3181902172582527,\n",
       "   2.3093279997181297],\n",
       "  'bmf-batch': [1.2400585660436805,\n",
       "   1.2492712068690663,\n",
       "   1.235372677743053,\n",
       "   1.3099909733191446,\n",
       "   1.3345284312225858,\n",
       "   1.3299398851536537,\n",
       "   1.3450622497609557,\n",
       "   1.332394227251705,\n",
       "   1.2589854381864622,\n",
       "   1.2424319292715282],\n",
       "  'bmf-stochastic': [1.248732064145714,\n",
       "   1.255613566881162,\n",
       "   1.2077697627111506,\n",
       "   1.290456508548788,\n",
       "   1.2608277128593113,\n",
       "   1.2817309594837882,\n",
       "   1.2846504909729268,\n",
       "   1.2605611051867247,\n",
       "   1.203805714224415,\n",
       "   1.1970600347134965],\n",
       "  'cmf-batch': [1.5191343022281816,\n",
       "   1.5548276469860085,\n",
       "   1.5001121974240423,\n",
       "   1.5901635458242471,\n",
       "   1.6178191030102274,\n",
       "   1.62123883923029,\n",
       "   1.6401319616576961,\n",
       "   1.6067386838442081,\n",
       "   1.5446137442366143,\n",
       "   1.5256151036034493]},\n",
       " 20: {'nmf-vanilla': [1.0229516830198737,\n",
       "   1.0260879192528178,\n",
       "   1.0115188661304557,\n",
       "   1.0593849111512488,\n",
       "   1.0589976402027101,\n",
       "   1.0639009371354942,\n",
       "   1.0566363072610951,\n",
       "   1.065515977604741,\n",
       "   1.0323795203941606,\n",
       "   0.9995938673447117],\n",
       "  'nmf-consensus': [1.0313438998031004,\n",
       "   1.0671892562812315,\n",
       "   1.0168791642919677,\n",
       "   1.0764626863346463,\n",
       "   1.0856099260700645,\n",
       "   1.063787041940685,\n",
       "   1.140746621100773,\n",
       "   1.2753584921547547,\n",
       "   1.0912580459151076,\n",
       "   1.0088708317144635],\n",
       "  'lda-batch': [2.2697369122022213,\n",
       "   2.2852768378396426,\n",
       "   2.2343299463945723,\n",
       "   2.39950403497403,\n",
       "   2.396781118266732,\n",
       "   2.427880652470952,\n",
       "   2.4030503603908766,\n",
       "   2.4224613018953334,\n",
       "   2.318595069217552,\n",
       "   2.3102742535911847],\n",
       "  'lda-stochastic': [2.2688730510027564,\n",
       "   2.2844025909196386,\n",
       "   2.2333319395611295,\n",
       "   2.3986651200369784,\n",
       "   2.3960497263494176,\n",
       "   2.4267551784449517,\n",
       "   2.4017283245515753,\n",
       "   2.4218181263203533,\n",
       "   2.3178346561381122,\n",
       "   2.3090669114887605],\n",
       "  'bmf-batch': [1.2103857934725002,\n",
       "   1.2146985523716294,\n",
       "   1.2069512707429553,\n",
       "   1.2618661124362818,\n",
       "   1.273097502085903,\n",
       "   1.2561062692529017,\n",
       "   1.2834321553540442,\n",
       "   1.265474607509648,\n",
       "   1.219577357907948,\n",
       "   1.1862289002994666],\n",
       "  'bmf-stochastic': [1.1789166444194061,\n",
       "   1.1844076373786148,\n",
       "   1.161514435160011,\n",
       "   1.211117055007356,\n",
       "   1.2379312330225352,\n",
       "   1.2330314230622699,\n",
       "   1.2385287590040377,\n",
       "   1.2169905225039475,\n",
       "   1.1919250567521722,\n",
       "   1.1595308659046597],\n",
       "  'cmf-batch': [1.5191482740910531,\n",
       "   1.5548133998203018,\n",
       "   1.500093716461844,\n",
       "   1.5901554814322816,\n",
       "   1.6178175380302675,\n",
       "   1.6212318593148816,\n",
       "   1.64011448115214,\n",
       "   1.6067121471698491,\n",
       "   1.5446014276344529,\n",
       "   1.525609205938105]}}"
      ]
     },
     "execution_count": 66,
     "metadata": {},
     "output_type": "execute_result"
    }
   ],
   "source": [
    "errs"
   ]
  },
  {
   "cell_type": "code",
   "execution_count": null,
   "metadata": {},
   "outputs": [],
   "source": []
  }
 ],
 "metadata": {
  "kernelspec": {
   "display_name": "Python 3",
   "language": "python",
   "name": "python3"
  },
  "language_info": {
   "codemirror_mode": {
    "name": "ipython",
    "version": 3
   },
   "file_extension": ".py",
   "mimetype": "text/x-python",
   "name": "python",
   "nbconvert_exporter": "python",
   "pygments_lexer": "ipython3",
   "version": "3.6.9"
  }
 },
 "nbformat": 4,
 "nbformat_minor": 4
}
