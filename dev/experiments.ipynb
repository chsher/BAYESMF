{
 "cells": [
  {
   "cell_type": "code",
   "execution_count": 21,
   "metadata": {},
   "outputs": [],
   "source": [
    "import os\n",
    "import sys\n",
    "import pickle\n",
    "import numpy as np\n",
    "#from warnings import filterwarnings\n",
    "#filterwarnings('ignore')\n",
    "from sklearn.decomposition import NMF\n",
    "from sklearn.metrics import mean_squared_error"
   ]
  },
  {
   "cell_type": "code",
   "execution_count": 20,
   "metadata": {},
   "outputs": [],
   "source": [
    "sys.path.append(os.path.dirname(os.path.dirname(os.getcwd())))\n",
    "\n",
    "from bayesmf.models.nmf import VanillaNMF, ConsensusNMF\n",
    "from bayesmf.models.lda import LDA, StochasticLDA\n",
    "from bayesmf.models.bmf import BMF, StochasticBMF\n",
    "from bayesmf.models.cmf import CMF, StochasticCMF\n",
    "from bayesmf.scripts.utils.model import workhorse, run_kfold_xval\n",
    "\n",
    "%reload_ext autoreload\n",
    "%autoreload 2"
   ]
  },
  {
   "cell_type": "code",
   "execution_count": 23,
   "metadata": {},
   "outputs": [],
   "source": [
    "import pprint"
   ]
  },
  {
   "cell_type": "code",
   "execution_count": 35,
   "metadata": {},
   "outputs": [
    {
     "name": "stdout",
     "output_type": "stream",
     "text": [
      "errs_050720.pkl\n",
      "10 bmf-batch 1.320\n",
      "10 bmf-stochastic 1.276\n",
      "15 bmf-batch 1.288\n",
      "15 bmf-stochastic 1.249\n",
      "20 bmf-batch 1.238\n",
      "20 bmf-stochastic 1.201\n",
      "l_errs_050720.pkl\n",
      "d_errs_050720.pkl\n",
      "10 bmf-batch 4.267\n",
      "10 bmf-stochastic 2.428\n",
      "15 bmf-batch 4.248\n",
      "15 bmf-stochastic 2.328\n",
      "20 bmf-batch 4.250\n",
      "20 bmf-stochastic 2.353\n",
      "l_d_errs_050720.pkl\n"
     ]
    }
   ],
   "source": [
    "files = ['errs_050720.pkl','l_errs_050720.pkl','d_errs_050720.pkl','l_d_errs_050720.pkl']\n",
    "#files = ['errs_nmf_050720.pkl','l_errs_nmf_050720.pkl','d_errs_nmf_050720.pkl','l_d_errs_nmf_050720.pkl']\n",
    "for file in files:\n",
    "    print(file)\n",
    "    errs = pickle.load(open(os.path.join('/home/sxchao/bayesmf/output/050720',file), 'rb'))\n",
    "    for k,v in errs.items():\n",
    "        for k2,v2 in v.items():\n",
    "            if 'bmf' in k2:\n",
    "                print(k,k2,'{0:.3f}'.format(np.mean(v2)))"
   ]
  },
  {
   "cell_type": "code",
   "execution_count": 3,
   "metadata": {},
   "outputs": [],
   "source": [
    "alpha = 2   # CRP parameter\n",
    "D = 1000    # number of datapoints\n",
    "K = 15      # number of (latent) topics\n",
    "V = 100     # number of features"
   ]
  },
  {
   "cell_type": "code",
   "execution_count": 4,
   "metadata": {},
   "outputs": [
    {
     "data": {
      "text/plain": [
       "13"
      ]
     },
     "execution_count": 4,
     "metadata": {},
     "output_type": "execute_result"
    }
   ],
   "source": [
    "# simulate a chinese restaurant process\n",
    "np.random.seed(22690)\n",
    "\n",
    "seating_chart = [[0]]\n",
    "num_tables = 1\n",
    "for d in range(1, D):\n",
    "    probs = [len(x) for x in seating_chart] + [alpha]\n",
    "    probs /= sum(np.array(probs))\n",
    "\n",
    "    table_assignment = np.random.choice(np.arange(num_tables + 1), p=probs)\n",
    "\n",
    "    if table_assignment == num_tables:\n",
    "        seating_chart.append([d])\n",
    "        num_tables += 1\n",
    "    else:\n",
    "        seating_chart[table_assignment].append(d)\n",
    "\n",
    "num_tables"
   ]
  },
  {
   "cell_type": "code",
   "execution_count": 13,
   "metadata": {},
   "outputs": [
    {
     "data": {
      "text/plain": [
       "(100, 15)"
      ]
     },
     "execution_count": 13,
     "metadata": {},
     "output_type": "execute_result"
    }
   ],
   "source": [
    "# sample the topic-specific feature weights\n",
    "feature_weights = np.random.multivariate_normal(np.zeros(V) - 0.5, np.eye(V), K).T\n",
    "feature_weights[feature_weights < 0.0] = 0.0\n",
    "#feature_weights[feature_weights < 0.0] = -feature_weights[feature_weights < 0.0]\n",
    "feature_weights.shape"
   ]
  },
  {
   "cell_type": "code",
   "execution_count": 14,
   "metadata": {},
   "outputs": [
    {
     "data": {
      "text/plain": [
       "(15, 13)"
      ]
     },
     "execution_count": 14,
     "metadata": {},
     "output_type": "execute_result"
    }
   ],
   "source": [
    "# sample the table-specific topic weights\n",
    "topic_weights = np.random.multivariate_normal(np.zeros(K) - 0.5, np.eye(K), num_tables).T\n",
    "topic_weights[topic_weights < 0.0] = 0.0\n",
    "#topic_weights[topic_weights < 0.0] = -topic_weights[topic_weights < 0.0]\n",
    "topic_weights.shape"
   ]
  },
  {
   "cell_type": "code",
   "execution_count": 15,
   "metadata": {},
   "outputs": [
    {
     "data": {
      "text/plain": [
       "(100, 1000)"
      ]
     },
     "execution_count": 15,
     "metadata": {},
     "output_type": "execute_result"
    }
   ],
   "source": [
    "# sample the occupant-specific gene expression\n",
    "sigma = np.eye(K)\n",
    "\n",
    "lambd = []\n",
    "for c,occupants in enumerate(seating_chart):\n",
    "    mu = topic_weights[:, c]\n",
    "    weights = np.random.multivariate_normal(mu, sigma, len(occupants)).T\n",
    "    weights[weights < 0.0] = 0.0    \n",
    "    lambd.append(np.matmul(feature_weights, weights))\n",
    "\n",
    "lambd = np.concatenate(lambd, axis=1)\n",
    "X = np.random.poisson(lambd)\n",
    "X.shape"
   ]
  },
  {
   "cell_type": "code",
   "execution_count": 19,
   "metadata": {},
   "outputs": [
    {
     "data": {
      "text/plain": [
       "0.37067"
      ]
     },
     "execution_count": 19,
     "metadata": {},
     "output_type": "execute_result"
    }
   ],
   "source": [
    "# sparsity\n",
    "np.count_nonzero(X==0) / X.size"
   ]
  },
  {
   "cell_type": "code",
   "execution_count": 126,
   "metadata": {},
   "outputs": [],
   "source": [
    "K=15\n",
    "ms=[10]\n",
    "num_stepss=[1, 2]\n",
    "step_sizes=[1e-15, 1e-10, 1e-05]\n",
    "max_iterss=[100] \n",
    "tolerances=[5e-04]\n",
    "smoothnesss=[100]"
   ]
  },
  {
   "cell_type": "code",
   "execution_count": 127,
   "metadata": {},
   "outputs": [],
   "source": [
    "idxs = np.arange(X.shape[1])\n",
    "np.random.seed(22690)\n",
    "np.random.shuffle(idxs)\n",
    "X_train = X[:, idxs[200:]]\n",
    "X_test = X[:, idxs[:200]]"
   ]
  },
  {
   "cell_type": "code",
   "execution_count": 128,
   "metadata": {},
   "outputs": [
    {
     "name": "stdout",
     "output_type": "stream",
     "text": [
      "m ns ssize it tol sm rmse\n",
      "10 1 1e-15 100 0.0005 100 1.5379893662897248\n",
      "10 1 1e-10 100 0.0005 100 1.5379893662897248\n",
      "10 1 1e-05 100 0.0005 100 1.5379893662897248\n",
      "10 2 1e-15 100 0.0005 100 1.5385629783510322\n",
      "10 2 1e-10 100 0.0005 100 1.5385629783510322\n",
      "10 2 1e-05 100 0.0005 100 1.5385629783510322\n"
     ]
    }
   ],
   "source": [
    "# cmf-stochastic\n",
    "print('m ns ssize it tol sm rmse')\n",
    "for m in ms:\n",
    "    for num_steps in num_stepss:\n",
    "        for step_size in step_sizes:\n",
    "            for max_iters in max_iterss:\n",
    "                for tolerance in tolerances:\n",
    "                    for smoothness in smoothnesss:\n",
    "                        factorizer = StochasticCMF(minibatch_size=100, K=K, m=m, num_steps=num_steps, max_iters=max_iters, tolerance=tolerance, smoothness=smoothness, kwargs={'c0':0.05 * X_train.shape[0]})\n",
    "                        factorizer.fit(X_train) # V x D\n",
    "                        l = factorizer.transform(X_test, attr='l') # K x m\n",
    "                        W = np.exp(factorizer.alpha[np.newaxis, :] + np.dot(l, factorizer.u.T)).T # K x D -> D x K\n",
    "                        H = factorizer.Eb.T # V x K -> K x D\n",
    "                        rmse = mean_squared_error(X_test.T, np.matmul(W, H), squared=False)\n",
    "                        print(m, num_steps, step_size, max_iters, tolerance, smoothness, rmse)"
   ]
  },
  {
   "cell_type": "code",
   "execution_count": 46,
   "metadata": {
    "scrolled": true
   },
   "outputs": [
    {
     "name": "stdout",
     "output_type": "stream",
     "text": [
      "m ns ssize it tol sm rmse\n",
      "10 50 1e-05 100 0.0005 500 1.5372329151598225\n",
      "10 50 1e-05 100 0.0005 400 1.5372329149036377\n",
      "10 50 1e-05 100 0.0005 300 1.5372329905406632\n",
      "10 40 1e-05 100 0.0005 500 1.5372329535140388\n",
      "10 40 1e-05 100 0.0005 400 1.537232953029216\n",
      "10 40 1e-05 100 0.0005 300 1.5372330890043964\n",
      "10 30 1e-05 100 0.0005 500 1.537233012134699\n",
      "10 30 1e-05 100 0.0005 400 1.5372330112120565\n",
      "10 30 1e-05 100 0.0005 300 1.5372332419447163\n",
      "15 50 1e-05 100 0.0005 500 1.537233163680542\n",
      "15 50 1e-05 100 0.0005 400 1.5372331643239827\n",
      "15 50 1e-05 100 0.0005 300 1.5372326668878677\n",
      "15 40 1e-05 100 0.0005 500 1.5372333995824745\n",
      "15 40 1e-05 100 0.0005 400 1.5372334007755923\n",
      "15 40 1e-05 100 0.0005 300 1.5372325088669738\n",
      "15 30 1e-05 100 0.0005 500 1.5372337628444517\n",
      "15 30 1e-05 100 0.0005 400 1.537233765089291\n",
      "15 30 1e-05 100 0.0005 300 1.5372322672086436\n"
     ]
    }
   ],
   "source": [
    "# cmf-batch"
   ]
  },
  {
   "cell_type": "code",
   "execution_count": 212,
   "metadata": {},
   "outputs": [],
   "source": [
    "X_train = np.random.poisson(2, (100, 1000))"
   ]
  },
  {
   "cell_type": "code",
   "execution_count": 229,
   "metadata": {},
   "outputs": [],
   "source": [
    "bmf = CMF(K=15, init='nmf', verbose=True)"
   ]
  },
  {
   "cell_type": "code",
   "execution_count": 230,
   "metadata": {},
   "outputs": [
    {
     "name": "stdout",
     "output_type": "stream",
     "text": [
      "Iter: 0, Bound: 6464893.78, Change: nan\n",
      "Iter: 1, Bound: 6767331.91, Change: 0.04678\n",
      "Iter: 2, Bound: 6813977.80, Change: 0.00689\n",
      "Iter: 3, Bound: 6809156.37, Change: -0.00071\n"
     ]
    },
    {
     "data": {
      "text/plain": [
       "CMF(K=15, init='nmf', m=10, max_iters=100, num_steps=1, random_state=22690,\n",
       "    smoothness=100, step_size=1e-05, tolerance=0.0005, verbose=True)"
      ]
     },
     "execution_count": 230,
     "metadata": {},
     "output_type": "execute_result"
    }
   ],
   "source": [
    "bmf.fit(X_train[:,:800])"
   ]
  },
  {
   "cell_type": "code",
   "execution_count": 231,
   "metadata": {},
   "outputs": [
    {
     "name": "stdout",
     "output_type": "stream",
     "text": [
      "Iter: 0, Bound: 1698737.73, Change: nan\n",
      "Iter: 1, Bound: 1698738.77, Change: 0.00000\n"
     ]
    }
   ],
   "source": [
    "l = bmf.transform(X_train[:,800:], attr='l') # K x m\n",
    "W = np.exp(bmf.alpha[np.newaxis, :] + np.dot(l, bmf.u.T)).T # K x D -> D x K\n",
    "H = bmf.Eb.T"
   ]
  },
  {
   "cell_type": "code",
   "execution_count": 232,
   "metadata": {},
   "outputs": [
    {
     "data": {
      "text/plain": [
       "1.921133682095794"
      ]
     },
     "execution_count": 232,
     "metadata": {},
     "output_type": "execute_result"
    }
   ],
   "source": [
    "# w/ nmf\n",
    "X_pred = np.matmul(W, H)\n",
    "mean_squared_error(X_test.T, X_pred, squared=False)"
   ]
  },
  {
   "cell_type": "code",
   "execution_count": 222,
   "metadata": {},
   "outputs": [
    {
     "data": {
      "text/plain": [
       "1.9211048773757262"
      ]
     },
     "execution_count": 222,
     "metadata": {},
     "output_type": "execute_result"
    }
   ],
   "source": [
    "# w/o nmf\n",
    "X_pred = np.matmul(W, H)\n",
    "mean_squared_error(X_test.T, X_pred, squared=False)"
   ]
  },
  {
   "cell_type": "code",
   "execution_count": 208,
   "metadata": {},
   "outputs": [
    {
     "data": {
      "application/vnd.jupyter.widget-view+json": {
       "model_id": "6d25f3b235d84d44a00ccebde8a3ed2b",
       "version_major": 2,
       "version_minor": 0
      },
      "text/plain": [
       "HBox(children=(IntProgress(value=0, description='k-soln', max=1, style=ProgressStyle(description_width='initia…"
      ]
     },
     "metadata": {},
     "output_type": "display_data"
    },
    {
     "data": {
      "application/vnd.jupyter.widget-view+json": {
       "model_id": "dec0376915014caaa2fd1b1a082733fc",
       "version_major": 2,
       "version_minor": 0
      },
      "text/plain": [
       "HBox(children=(IntProgress(value=0, description='cv', max=10, style=ProgressStyle(description_width='initial')…"
      ]
     },
     "metadata": {},
     "output_type": "display_data"
    },
    {
     "data": {
      "application/vnd.jupyter.widget-view+json": {
       "model_id": "1060c11830f345969150e0b82a57f9e5",
       "version_major": 2,
       "version_minor": 0
      },
      "text/plain": [
       "HBox(children=(IntProgress(value=0, description='method', max=2, style=ProgressStyle(description_width='initia…"
      ]
     },
     "metadata": {},
     "output_type": "display_data"
    },
    {
     "name": "stdout",
     "output_type": "stream",
     "text": [
      "Method: bmf-batch, RMSE: 1.075, Dur: 0.652\n",
      "Method: bmf-stochastic, RMSE: 1.083, Dur: 6.966\n",
      "\n"
     ]
    },
    {
     "data": {
      "application/vnd.jupyter.widget-view+json": {
       "model_id": "e06237b487834ddb90b654b7665a99bf",
       "version_major": 2,
       "version_minor": 0
      },
      "text/plain": [
       "HBox(children=(IntProgress(value=0, description='method', max=2, style=ProgressStyle(description_width='initia…"
      ]
     },
     "metadata": {},
     "output_type": "display_data"
    },
    {
     "name": "stdout",
     "output_type": "stream",
     "text": [
      "Method: bmf-batch, RMSE: 1.078, Dur: 0.744\n",
      "invalid algorithm for bmf\n"
     ]
    },
    {
     "ename": "UnboundLocalError",
     "evalue": "local variable 'W' referenced before assignment",
     "output_type": "error",
     "traceback": [
      "\u001b[0;31m---------------------------------------------------------------------------\u001b[0m",
      "\u001b[0;31mUnboundLocalError\u001b[0m                         Traceback (most recent call last)",
      "\u001b[0;32m<ipython-input-208-45b84bca6af1>\u001b[0m in \u001b[0;36m<module>\u001b[0;34m\u001b[0m\n\u001b[0;32m----> 1\u001b[0;31m \u001b[0merrs\u001b[0m\u001b[0;34m,\u001b[0m \u001b[0mdurs\u001b[0m \u001b[0;34m=\u001b[0m \u001b[0mrun_kfold_xval\u001b[0m\u001b[0;34m(\u001b[0m\u001b[0mX\u001b[0m\u001b[0;34m,\u001b[0m \u001b[0mkfold\u001b[0m\u001b[0;34m=\u001b[0m\u001b[0;36m10\u001b[0m\u001b[0;34m,\u001b[0m \u001b[0mcomponents\u001b[0m\u001b[0;34m=\u001b[0m\u001b[0;34m[\u001b[0m\u001b[0;36m20\u001b[0m\u001b[0;34m]\u001b[0m\u001b[0;34m,\u001b[0m \u001b[0mmethods\u001b[0m\u001b[0;34m=\u001b[0m\u001b[0;34m[\u001b[0m\u001b[0;34m'bmf-batch'\u001b[0m\u001b[0;34m,\u001b[0m \u001b[0;34m'bmf-stochastic'\u001b[0m\u001b[0;34m]\u001b[0m\u001b[0;34m)\u001b[0m\u001b[0;34m\u001b[0m\u001b[0;34m\u001b[0m\u001b[0m\n\u001b[0m",
      "\u001b[0;32m~/bayesmf/scripts/utils.py\u001b[0m in \u001b[0;36mrun_kfold_xval\u001b[0;34m(X, kfold, random_state, components, methods)\u001b[0m\n\u001b[1;32m    113\u001b[0m \u001b[0;34m\u001b[0m\u001b[0m\n\u001b[1;32m    114\u001b[0m                 \u001b[0mstart\u001b[0m \u001b[0;34m=\u001b[0m \u001b[0mtime\u001b[0m\u001b[0;34m.\u001b[0m\u001b[0mtime\u001b[0m\u001b[0;34m(\u001b[0m\u001b[0;34m)\u001b[0m\u001b[0;34m\u001b[0m\u001b[0;34m\u001b[0m\u001b[0m\n\u001b[0;32m--> 115\u001b[0;31m                 \u001b[0merr\u001b[0m \u001b[0;34m=\u001b[0m \u001b[0mworkhorse\u001b[0m\u001b[0;34m(\u001b[0m\u001b[0mX_train\u001b[0m\u001b[0;34m,\u001b[0m \u001b[0mX_test\u001b[0m\u001b[0;34m,\u001b[0m \u001b[0mn_components\u001b[0m\u001b[0;34m,\u001b[0m \u001b[0mmodel\u001b[0m\u001b[0;34m,\u001b[0m \u001b[0malgorithm\u001b[0m\u001b[0;34m)\u001b[0m\u001b[0;34m\u001b[0m\u001b[0;34m\u001b[0m\u001b[0m\n\u001b[0m\u001b[1;32m    116\u001b[0m                 \u001b[0mend\u001b[0m \u001b[0;34m=\u001b[0m \u001b[0mtime\u001b[0m\u001b[0;34m.\u001b[0m\u001b[0mtime\u001b[0m\u001b[0;34m(\u001b[0m\u001b[0;34m)\u001b[0m\u001b[0;34m\u001b[0m\u001b[0;34m\u001b[0m\u001b[0m\n\u001b[1;32m    117\u001b[0m                 \u001b[0mdur\u001b[0m \u001b[0;34m=\u001b[0m \u001b[0mend\u001b[0m \u001b[0;34m-\u001b[0m \u001b[0mstart\u001b[0m\u001b[0;34m\u001b[0m\u001b[0;34m\u001b[0m\u001b[0m\n",
      "\u001b[0;32m~/bayesmf/scripts/utils.py\u001b[0m in \u001b[0;36mworkhorse\u001b[0;34m(X_train, X_test, n_components, model, algorithm, random_state)\u001b[0m\n\u001b[1;32m     74\u001b[0m \u001b[0;34m\u001b[0m\u001b[0m\n\u001b[1;32m     75\u001b[0m     \u001b[0;31m#return np.sqrt(np.sum((X_test.T - np.matmul(W, H)) ** 2) / X_test.size)\u001b[0m\u001b[0;34m\u001b[0m\u001b[0;34m\u001b[0m\u001b[0;34m\u001b[0m\u001b[0m\n\u001b[0;32m---> 76\u001b[0;31m     \u001b[0mX_pred\u001b[0m \u001b[0;34m=\u001b[0m \u001b[0mnp\u001b[0m\u001b[0;34m.\u001b[0m\u001b[0mmatmul\u001b[0m\u001b[0;34m(\u001b[0m\u001b[0mW\u001b[0m\u001b[0;34m,\u001b[0m \u001b[0mH\u001b[0m\u001b[0;34m)\u001b[0m\u001b[0;34m\u001b[0m\u001b[0;34m\u001b[0m\u001b[0m\n\u001b[0m\u001b[1;32m     77\u001b[0m     \u001b[0mX_pred\u001b[0m\u001b[0;34m[\u001b[0m\u001b[0mX_pred\u001b[0m \u001b[0;34m==\u001b[0m \u001b[0minf\u001b[0m\u001b[0;34m]\u001b[0m \u001b[0;34m=\u001b[0m \u001b[0;36m0.0\u001b[0m\u001b[0;34m\u001b[0m\u001b[0;34m\u001b[0m\u001b[0m\n\u001b[1;32m     78\u001b[0m     \u001b[0mX_pred\u001b[0m\u001b[0;34m[\u001b[0m\u001b[0mX_pred\u001b[0m \u001b[0;34m==\u001b[0m \u001b[0;34m-\u001b[0m\u001b[0minf\u001b[0m\u001b[0;34m]\u001b[0m \u001b[0;34m=\u001b[0m \u001b[0;36m0.0\u001b[0m\u001b[0;34m\u001b[0m\u001b[0;34m\u001b[0m\u001b[0m\n",
      "\u001b[0;31mUnboundLocalError\u001b[0m: local variable 'W' referenced before assignment"
     ]
    }
   ],
   "source": [
    "errs, durs = run_kfold_xval(X, kfold=10, components=[20], methods=['bmf-batch', 'bmf-stochastic'])"
   ]
  },
  {
   "cell_type": "code",
   "execution_count": 207,
   "metadata": {},
   "outputs": [
    {
     "data": {
      "application/vnd.jupyter.widget-view+json": {
       "model_id": "c03123cf44ea40d9a9ccacbfe0d11b54",
       "version_major": 2,
       "version_minor": 0
      },
      "text/plain": [
       "HBox(children=(IntProgress(value=0, description='k-soln', max=1, style=ProgressStyle(description_width='initia…"
      ]
     },
     "metadata": {},
     "output_type": "display_data"
    },
    {
     "data": {
      "application/vnd.jupyter.widget-view+json": {
       "model_id": "4e96f172af3542ecb5d9f435d9747d06",
       "version_major": 2,
       "version_minor": 0
      },
      "text/plain": [
       "HBox(children=(IntProgress(value=0, description='cv', max=10, style=ProgressStyle(description_width='initial')…"
      ]
     },
     "metadata": {},
     "output_type": "display_data"
    },
    {
     "data": {
      "application/vnd.jupyter.widget-view+json": {
       "model_id": "2c1320bee35f42b6a85bbb32d904e7ab",
       "version_major": 2,
       "version_minor": 0
      },
      "text/plain": [
       "HBox(children=(IntProgress(value=0, description='method', max=2, style=ProgressStyle(description_width='initia…"
      ]
     },
     "metadata": {},
     "output_type": "display_data"
    },
    {
     "name": "stdout",
     "output_type": "stream",
     "text": [
      "Method: bmf-batch, RMSE: 1.072, Dur: 0.544\n",
      "Method: bmf-stochastic, RMSE: 1.079, Dur: 6.654\n",
      "\n"
     ]
    },
    {
     "data": {
      "application/vnd.jupyter.widget-view+json": {
       "model_id": "bf98901a19aa4ecbb6fba75a8bceb1e7",
       "version_major": 2,
       "version_minor": 0
      },
      "text/plain": [
       "HBox(children=(IntProgress(value=0, description='method', max=2, style=ProgressStyle(description_width='initia…"
      ]
     },
     "metadata": {},
     "output_type": "display_data"
    },
    {
     "name": "stdout",
     "output_type": "stream",
     "text": [
      "Method: bmf-batch, RMSE: 1.074, Dur: 0.661\n",
      "invalid algorithm for bmf\n"
     ]
    },
    {
     "ename": "UnboundLocalError",
     "evalue": "local variable 'W' referenced before assignment",
     "output_type": "error",
     "traceback": [
      "\u001b[0;31m---------------------------------------------------------------------------\u001b[0m",
      "\u001b[0;31mUnboundLocalError\u001b[0m                         Traceback (most recent call last)",
      "\u001b[0;32m<ipython-input-207-45b84bca6af1>\u001b[0m in \u001b[0;36m<module>\u001b[0;34m\u001b[0m\n\u001b[0;32m----> 1\u001b[0;31m \u001b[0merrs\u001b[0m\u001b[0;34m,\u001b[0m \u001b[0mdurs\u001b[0m \u001b[0;34m=\u001b[0m \u001b[0mrun_kfold_xval\u001b[0m\u001b[0;34m(\u001b[0m\u001b[0mX\u001b[0m\u001b[0;34m,\u001b[0m \u001b[0mkfold\u001b[0m\u001b[0;34m=\u001b[0m\u001b[0;36m10\u001b[0m\u001b[0;34m,\u001b[0m \u001b[0mcomponents\u001b[0m\u001b[0;34m=\u001b[0m\u001b[0;34m[\u001b[0m\u001b[0;36m20\u001b[0m\u001b[0;34m]\u001b[0m\u001b[0;34m,\u001b[0m \u001b[0mmethods\u001b[0m\u001b[0;34m=\u001b[0m\u001b[0;34m[\u001b[0m\u001b[0;34m'bmf-batch'\u001b[0m\u001b[0;34m,\u001b[0m \u001b[0;34m'bmf-stochastic'\u001b[0m\u001b[0;34m]\u001b[0m\u001b[0;34m)\u001b[0m\u001b[0;34m\u001b[0m\u001b[0;34m\u001b[0m\u001b[0m\n\u001b[0m",
      "\u001b[0;32m~/bayesmf/scripts/utils.py\u001b[0m in \u001b[0;36mrun_kfold_xval\u001b[0;34m(X, kfold, random_state, components, methods)\u001b[0m\n\u001b[1;32m    113\u001b[0m \u001b[0;34m\u001b[0m\u001b[0m\n\u001b[1;32m    114\u001b[0m                 \u001b[0mstart\u001b[0m \u001b[0;34m=\u001b[0m \u001b[0mtime\u001b[0m\u001b[0;34m.\u001b[0m\u001b[0mtime\u001b[0m\u001b[0;34m(\u001b[0m\u001b[0;34m)\u001b[0m\u001b[0;34m\u001b[0m\u001b[0;34m\u001b[0m\u001b[0m\n\u001b[0;32m--> 115\u001b[0;31m                 \u001b[0merr\u001b[0m \u001b[0;34m=\u001b[0m \u001b[0mworkhorse\u001b[0m\u001b[0;34m(\u001b[0m\u001b[0mX_train\u001b[0m\u001b[0;34m,\u001b[0m \u001b[0mX_test\u001b[0m\u001b[0;34m,\u001b[0m \u001b[0mn_components\u001b[0m\u001b[0;34m,\u001b[0m \u001b[0mmodel\u001b[0m\u001b[0;34m,\u001b[0m \u001b[0malgorithm\u001b[0m\u001b[0;34m)\u001b[0m\u001b[0;34m\u001b[0m\u001b[0;34m\u001b[0m\u001b[0m\n\u001b[0m\u001b[1;32m    116\u001b[0m                 \u001b[0mend\u001b[0m \u001b[0;34m=\u001b[0m \u001b[0mtime\u001b[0m\u001b[0;34m.\u001b[0m\u001b[0mtime\u001b[0m\u001b[0;34m(\u001b[0m\u001b[0;34m)\u001b[0m\u001b[0;34m\u001b[0m\u001b[0;34m\u001b[0m\u001b[0m\n\u001b[1;32m    117\u001b[0m                 \u001b[0mdur\u001b[0m \u001b[0;34m=\u001b[0m \u001b[0mend\u001b[0m \u001b[0;34m-\u001b[0m \u001b[0mstart\u001b[0m\u001b[0;34m\u001b[0m\u001b[0;34m\u001b[0m\u001b[0m\n",
      "\u001b[0;32m~/bayesmf/scripts/utils.py\u001b[0m in \u001b[0;36mworkhorse\u001b[0;34m(X_train, X_test, n_components, model, algorithm, random_state)\u001b[0m\n\u001b[1;32m     74\u001b[0m \u001b[0;34m\u001b[0m\u001b[0m\n\u001b[1;32m     75\u001b[0m     \u001b[0;31m#return np.sqrt(np.sum((X_test.T - np.matmul(W, H)) ** 2) / X_test.size)\u001b[0m\u001b[0;34m\u001b[0m\u001b[0;34m\u001b[0m\u001b[0;34m\u001b[0m\u001b[0m\n\u001b[0;32m---> 76\u001b[0;31m     \u001b[0mX_pred\u001b[0m \u001b[0;34m=\u001b[0m \u001b[0mnp\u001b[0m\u001b[0;34m.\u001b[0m\u001b[0mmatmul\u001b[0m\u001b[0;34m(\u001b[0m\u001b[0mW\u001b[0m\u001b[0;34m,\u001b[0m \u001b[0mH\u001b[0m\u001b[0;34m)\u001b[0m\u001b[0;34m\u001b[0m\u001b[0;34m\u001b[0m\u001b[0m\n\u001b[0m\u001b[1;32m     77\u001b[0m     \u001b[0mX_pred\u001b[0m\u001b[0;34m[\u001b[0m\u001b[0mX_pred\u001b[0m \u001b[0;34m==\u001b[0m \u001b[0minf\u001b[0m\u001b[0;34m]\u001b[0m \u001b[0;34m=\u001b[0m \u001b[0;36m0.0\u001b[0m\u001b[0;34m\u001b[0m\u001b[0;34m\u001b[0m\u001b[0m\n\u001b[1;32m     78\u001b[0m     \u001b[0mX_pred\u001b[0m\u001b[0;34m[\u001b[0m\u001b[0mX_pred\u001b[0m \u001b[0;34m==\u001b[0m \u001b[0;34m-\u001b[0m\u001b[0minf\u001b[0m\u001b[0;34m]\u001b[0m \u001b[0;34m=\u001b[0m \u001b[0;36m0.0\u001b[0m\u001b[0;34m\u001b[0m\u001b[0;34m\u001b[0m\u001b[0m\n",
      "\u001b[0;31mUnboundLocalError\u001b[0m: local variable 'W' referenced before assignment"
     ]
    }
   ],
   "source": [
    "errs, durs = run_kfold_xval(X, kfold=10, components=[20], methods=['bmf-batch', 'bmf-stochastic'])"
   ]
  },
  {
   "cell_type": "code",
   "execution_count": 133,
   "metadata": {},
   "outputs": [
    {
     "data": {
      "application/vnd.jupyter.widget-view+json": {
       "model_id": "b2d239790e3c4f41bdb6e1542261c7bd",
       "version_major": 2,
       "version_minor": 0
      },
      "text/plain": [
       "HBox(children=(IntProgress(value=0, description='k-soln', max=1, style=ProgressStyle(description_width='initia…"
      ]
     },
     "metadata": {},
     "output_type": "display_data"
    },
    {
     "data": {
      "application/vnd.jupyter.widget-view+json": {
       "model_id": "346a14d70302477aa3515ec28e2033cb",
       "version_major": 2,
       "version_minor": 0
      },
      "text/plain": [
       "HBox(children=(IntProgress(value=0, description='cv', max=10, style=ProgressStyle(description_width='initial')…"
      ]
     },
     "metadata": {},
     "output_type": "display_data"
    },
    {
     "data": {
      "application/vnd.jupyter.widget-view+json": {
       "model_id": "c66ab60d637f45418ccabc8f09a85201",
       "version_major": 2,
       "version_minor": 0
      },
      "text/plain": [
       "HBox(children=(IntProgress(value=0, description='method', max=8, style=ProgressStyle(description_width='initia…"
      ]
     },
     "metadata": {},
     "output_type": "display_data"
    },
    {
     "name": "stdout",
     "output_type": "stream",
     "text": [
      "Method: nmf-vanilla, RMSE: 1.023, Dur: 0.313\n",
      "Method: nmf-consensus, RMSE: 1.031, Dur: 18.536\n",
      "Method: lda-batch, RMSE: 2.270, Dur: 12.494\n",
      "Method: lda-stochastic, RMSE: 2.269, Dur: 15.924\n",
      "Method: bmf-batch, RMSE: 1.210, Dur: 0.425\n",
      "Method: bmf-stochastic, RMSE: 1.125, Dur: 2.626\n",
      "Method: cmf-batch, RMSE: 1.519, Dur: 1.289\n",
      "invalid algorithm for cmf\n"
     ]
    },
    {
     "ename": "UnboundLocalError",
     "evalue": "local variable 'W' referenced before assignment",
     "output_type": "error",
     "traceback": [
      "\u001b[0;31m---------------------------------------------------------------------------\u001b[0m",
      "\u001b[0;31mUnboundLocalError\u001b[0m                         Traceback (most recent call last)",
      "\u001b[0;32m<ipython-input-133-d9753f3fe664>\u001b[0m in \u001b[0;36m<module>\u001b[0;34m\u001b[0m\n\u001b[0;32m----> 1\u001b[0;31m \u001b[0merrs\u001b[0m\u001b[0;34m,\u001b[0m \u001b[0mdurs\u001b[0m \u001b[0;34m=\u001b[0m \u001b[0mrun_kfold_xval\u001b[0m\u001b[0;34m(\u001b[0m\u001b[0mX\u001b[0m\u001b[0;34m,\u001b[0m \u001b[0mkfold\u001b[0m\u001b[0;34m=\u001b[0m\u001b[0;36m10\u001b[0m\u001b[0;34m,\u001b[0m \u001b[0mcomponents\u001b[0m\u001b[0;34m=\u001b[0m\u001b[0;34m[\u001b[0m\u001b[0;36m20\u001b[0m\u001b[0;34m]\u001b[0m\u001b[0;34m)\u001b[0m\u001b[0;34m\u001b[0m\u001b[0;34m\u001b[0m\u001b[0m\n\u001b[0m",
      "\u001b[0;32m~/bayesmf/scripts/utils.py\u001b[0m in \u001b[0;36mrun_kfold_xval\u001b[0;34m(X, kfold, random_state, components, methods)\u001b[0m\n\u001b[1;32m    108\u001b[0m \u001b[0;34m\u001b[0m\u001b[0m\n\u001b[1;32m    109\u001b[0m                 \u001b[0mstart\u001b[0m \u001b[0;34m=\u001b[0m \u001b[0mtime\u001b[0m\u001b[0;34m.\u001b[0m\u001b[0mtime\u001b[0m\u001b[0;34m(\u001b[0m\u001b[0;34m)\u001b[0m\u001b[0;34m\u001b[0m\u001b[0;34m\u001b[0m\u001b[0m\n\u001b[0;32m--> 110\u001b[0;31m                 \u001b[0merr\u001b[0m \u001b[0;34m=\u001b[0m \u001b[0mworkhorse\u001b[0m\u001b[0;34m(\u001b[0m\u001b[0mX_train\u001b[0m\u001b[0;34m,\u001b[0m \u001b[0mX_test\u001b[0m\u001b[0;34m,\u001b[0m \u001b[0mn_components\u001b[0m\u001b[0;34m,\u001b[0m \u001b[0mmodel\u001b[0m\u001b[0;34m,\u001b[0m \u001b[0malgorithm\u001b[0m\u001b[0;34m)\u001b[0m\u001b[0;34m\u001b[0m\u001b[0;34m\u001b[0m\u001b[0m\n\u001b[0m\u001b[1;32m    111\u001b[0m                 \u001b[0mend\u001b[0m \u001b[0;34m=\u001b[0m \u001b[0mtime\u001b[0m\u001b[0;34m.\u001b[0m\u001b[0mtime\u001b[0m\u001b[0;34m(\u001b[0m\u001b[0;34m)\u001b[0m\u001b[0;34m\u001b[0m\u001b[0;34m\u001b[0m\u001b[0m\n\u001b[1;32m    112\u001b[0m                 \u001b[0mdur\u001b[0m \u001b[0;34m=\u001b[0m \u001b[0mend\u001b[0m \u001b[0;34m-\u001b[0m \u001b[0mstart\u001b[0m\u001b[0;34m\u001b[0m\u001b[0;34m\u001b[0m\u001b[0m\n",
      "\u001b[0;32m~/bayesmf/scripts/utils.py\u001b[0m in \u001b[0;36mworkhorse\u001b[0;34m(X_train, X_test, n_components, model, algorithm, random_state)\u001b[0m\n\u001b[1;32m     73\u001b[0m \u001b[0;34m\u001b[0m\u001b[0m\n\u001b[1;32m     74\u001b[0m     \u001b[0;31m#return np.sqrt(np.sum((X_test.T - np.matmul(W, H)) ** 2) / X_test.size)\u001b[0m\u001b[0;34m\u001b[0m\u001b[0;34m\u001b[0m\u001b[0;34m\u001b[0m\u001b[0m\n\u001b[0;32m---> 75\u001b[0;31m     \u001b[0;32mreturn\u001b[0m \u001b[0mmean_squared_error\u001b[0m\u001b[0;34m(\u001b[0m\u001b[0mX_test\u001b[0m\u001b[0;34m.\u001b[0m\u001b[0mT\u001b[0m\u001b[0;34m,\u001b[0m \u001b[0mnp\u001b[0m\u001b[0;34m.\u001b[0m\u001b[0mmatmul\u001b[0m\u001b[0;34m(\u001b[0m\u001b[0mW\u001b[0m\u001b[0;34m,\u001b[0m \u001b[0mH\u001b[0m\u001b[0;34m)\u001b[0m\u001b[0;34m,\u001b[0m \u001b[0msquared\u001b[0m\u001b[0;34m=\u001b[0m\u001b[0;32mFalse\u001b[0m\u001b[0;34m)\u001b[0m\u001b[0;34m\u001b[0m\u001b[0;34m\u001b[0m\u001b[0m\n\u001b[0m\u001b[1;32m     76\u001b[0m \u001b[0;34m\u001b[0m\u001b[0m\n\u001b[1;32m     77\u001b[0m \u001b[0;34m\u001b[0m\u001b[0m\n",
      "\u001b[0;31mUnboundLocalError\u001b[0m: local variable 'W' referenced before assignment"
     ]
    }
   ],
   "source": [
    "errs, durs = run_kfold_xval(X, kfold=10, components=[20])"
   ]
  },
  {
   "cell_type": "code",
   "execution_count": 132,
   "metadata": {},
   "outputs": [
    {
     "data": {
      "application/vnd.jupyter.widget-view+json": {
       "model_id": "202611f0afa24b16b6f5589b0968fc30",
       "version_major": 2,
       "version_minor": 0
      },
      "text/plain": [
       "HBox(children=(IntProgress(value=0, description='k-soln', max=1, style=ProgressStyle(description_width='initia…"
      ]
     },
     "metadata": {},
     "output_type": "display_data"
    },
    {
     "data": {
      "application/vnd.jupyter.widget-view+json": {
       "model_id": "4509f50b864047c886c251de3bada85a",
       "version_major": 2,
       "version_minor": 0
      },
      "text/plain": [
       "HBox(children=(IntProgress(value=0, description='cv', max=5, style=ProgressStyle(description_width='initial'))…"
      ]
     },
     "metadata": {},
     "output_type": "display_data"
    },
    {
     "data": {
      "application/vnd.jupyter.widget-view+json": {
       "model_id": "2b54e2ade8714bf494cb423ceb2b0076",
       "version_major": 2,
       "version_minor": 0
      },
      "text/plain": [
       "HBox(children=(IntProgress(value=0, description='method', max=8, style=ProgressStyle(description_width='initia…"
      ]
     },
     "metadata": {},
     "output_type": "display_data"
    },
    {
     "name": "stdout",
     "output_type": "stream",
     "text": [
      "Method: nmf-vanilla, RMSE: 1.022, Dur: 0.310\n",
      "Method: nmf-consensus, RMSE: 1.028, Dur: 16.328\n",
      "Method: lda-batch, RMSE: 2.278, Dur: 11.666\n",
      "Method: lda-stochastic, RMSE: 2.277, Dur: 16.306\n",
      "Method: bmf-batch, RMSE: 1.202, Dur: 0.471\n",
      "Method: bmf-stochastic, RMSE: 1.121, Dur: 2.377\n",
      "Method: cmf-batch, RMSE: 1.537, Dur: 1.262\n",
      "invalid algorithm for cmf\n"
     ]
    },
    {
     "ename": "UnboundLocalError",
     "evalue": "local variable 'W' referenced before assignment",
     "output_type": "error",
     "traceback": [
      "\u001b[0;31m---------------------------------------------------------------------------\u001b[0m",
      "\u001b[0;31mUnboundLocalError\u001b[0m                         Traceback (most recent call last)",
      "\u001b[0;32m<ipython-input-132-f55b950baeea>\u001b[0m in \u001b[0;36m<module>\u001b[0;34m\u001b[0m\n\u001b[0;32m----> 1\u001b[0;31m \u001b[0merrs\u001b[0m\u001b[0;34m,\u001b[0m \u001b[0mdurs\u001b[0m \u001b[0;34m=\u001b[0m \u001b[0mrun_kfold_xval\u001b[0m\u001b[0;34m(\u001b[0m\u001b[0mX\u001b[0m\u001b[0;34m,\u001b[0m \u001b[0mcomponents\u001b[0m\u001b[0;34m=\u001b[0m\u001b[0;34m[\u001b[0m\u001b[0;36m20\u001b[0m\u001b[0;34m]\u001b[0m\u001b[0;34m)\u001b[0m\u001b[0;34m\u001b[0m\u001b[0;34m\u001b[0m\u001b[0m\n\u001b[0m",
      "\u001b[0;32m~/bayesmf/scripts/utils.py\u001b[0m in \u001b[0;36mrun_kfold_xval\u001b[0;34m(X, kfold, random_state, components, methods)\u001b[0m\n\u001b[1;32m    108\u001b[0m \u001b[0;34m\u001b[0m\u001b[0m\n\u001b[1;32m    109\u001b[0m                 \u001b[0mstart\u001b[0m \u001b[0;34m=\u001b[0m \u001b[0mtime\u001b[0m\u001b[0;34m.\u001b[0m\u001b[0mtime\u001b[0m\u001b[0;34m(\u001b[0m\u001b[0;34m)\u001b[0m\u001b[0;34m\u001b[0m\u001b[0;34m\u001b[0m\u001b[0m\n\u001b[0;32m--> 110\u001b[0;31m                 \u001b[0merr\u001b[0m \u001b[0;34m=\u001b[0m \u001b[0mworkhorse\u001b[0m\u001b[0;34m(\u001b[0m\u001b[0mX_train\u001b[0m\u001b[0;34m,\u001b[0m \u001b[0mX_test\u001b[0m\u001b[0;34m,\u001b[0m \u001b[0mn_components\u001b[0m\u001b[0;34m,\u001b[0m \u001b[0mmodel\u001b[0m\u001b[0;34m,\u001b[0m \u001b[0malgorithm\u001b[0m\u001b[0;34m)\u001b[0m\u001b[0;34m\u001b[0m\u001b[0;34m\u001b[0m\u001b[0m\n\u001b[0m\u001b[1;32m    111\u001b[0m                 \u001b[0mend\u001b[0m \u001b[0;34m=\u001b[0m \u001b[0mtime\u001b[0m\u001b[0;34m.\u001b[0m\u001b[0mtime\u001b[0m\u001b[0;34m(\u001b[0m\u001b[0;34m)\u001b[0m\u001b[0;34m\u001b[0m\u001b[0;34m\u001b[0m\u001b[0m\n\u001b[1;32m    112\u001b[0m                 \u001b[0mdur\u001b[0m \u001b[0;34m=\u001b[0m \u001b[0mend\u001b[0m \u001b[0;34m-\u001b[0m \u001b[0mstart\u001b[0m\u001b[0;34m\u001b[0m\u001b[0;34m\u001b[0m\u001b[0m\n",
      "\u001b[0;32m~/bayesmf/scripts/utils.py\u001b[0m in \u001b[0;36mworkhorse\u001b[0;34m(X_train, X_test, n_components, model, algorithm, random_state)\u001b[0m\n\u001b[1;32m     73\u001b[0m \u001b[0;34m\u001b[0m\u001b[0m\n\u001b[1;32m     74\u001b[0m     \u001b[0;31m#return np.sqrt(np.sum((X_test.T - np.matmul(W, H)) ** 2) / X_test.size)\u001b[0m\u001b[0;34m\u001b[0m\u001b[0;34m\u001b[0m\u001b[0;34m\u001b[0m\u001b[0m\n\u001b[0;32m---> 75\u001b[0;31m     \u001b[0;32mreturn\u001b[0m \u001b[0mmean_squared_error\u001b[0m\u001b[0;34m(\u001b[0m\u001b[0mX_test\u001b[0m\u001b[0;34m.\u001b[0m\u001b[0mT\u001b[0m\u001b[0;34m,\u001b[0m \u001b[0mnp\u001b[0m\u001b[0;34m.\u001b[0m\u001b[0mmatmul\u001b[0m\u001b[0;34m(\u001b[0m\u001b[0mW\u001b[0m\u001b[0;34m,\u001b[0m \u001b[0mH\u001b[0m\u001b[0;34m)\u001b[0m\u001b[0;34m,\u001b[0m \u001b[0msquared\u001b[0m\u001b[0;34m=\u001b[0m\u001b[0;32mFalse\u001b[0m\u001b[0;34m)\u001b[0m\u001b[0;34m\u001b[0m\u001b[0;34m\u001b[0m\u001b[0m\n\u001b[0m\u001b[1;32m     76\u001b[0m \u001b[0;34m\u001b[0m\u001b[0m\n\u001b[1;32m     77\u001b[0m \u001b[0;34m\u001b[0m\u001b[0m\n",
      "\u001b[0;31mUnboundLocalError\u001b[0m: local variable 'W' referenced before assignment"
     ]
    }
   ],
   "source": [
    "errs, durs = run_kfold_xval(X, components=[20])"
   ]
  },
  {
   "cell_type": "code",
   "execution_count": 131,
   "metadata": {},
   "outputs": [
    {
     "data": {
      "application/vnd.jupyter.widget-view+json": {
       "model_id": "420c02da2fe1470887d1d6a6db0fa9b7",
       "version_major": 2,
       "version_minor": 0
      },
      "text/plain": [
       "HBox(children=(IntProgress(value=0, description='k-soln', max=1, style=ProgressStyle(description_width='initia…"
      ]
     },
     "metadata": {},
     "output_type": "display_data"
    },
    {
     "data": {
      "application/vnd.jupyter.widget-view+json": {
       "model_id": "f03ae99486734f6e86f369bf0c9ec375",
       "version_major": 2,
       "version_minor": 0
      },
      "text/plain": [
       "HBox(children=(IntProgress(value=0, description='cv', max=5, style=ProgressStyle(description_width='initial'))…"
      ]
     },
     "metadata": {},
     "output_type": "display_data"
    },
    {
     "data": {
      "application/vnd.jupyter.widget-view+json": {
       "model_id": "587e8064736a4e2a9501b8563de6bbf1",
       "version_major": 2,
       "version_minor": 0
      },
      "text/plain": [
       "HBox(children=(IntProgress(value=0, description='method', max=8, style=ProgressStyle(description_width='initia…"
      ]
     },
     "metadata": {},
     "output_type": "display_data"
    },
    {
     "name": "stdout",
     "output_type": "stream",
     "text": [
      "Method: nmf-vanilla, RMSE: 1.087, Dur: 0.143\n",
      "Method: nmf-consensus, RMSE: 1.103, Dur: 12.317\n",
      "Method: lda-batch, RMSE: 2.278, Dur: 12.177\n",
      "Method: lda-stochastic, RMSE: 2.277, Dur: 17.308\n",
      "Method: bmf-batch, RMSE: 1.246, Dur: 0.430\n",
      "Method: bmf-stochastic, RMSE: 1.169, Dur: 2.188\n",
      "Method: cmf-batch, RMSE: 1.537, Dur: 1.041\n",
      "invalid algorithm for cmf\n"
     ]
    },
    {
     "ename": "UnboundLocalError",
     "evalue": "local variable 'W' referenced before assignment",
     "output_type": "error",
     "traceback": [
      "\u001b[0;31m---------------------------------------------------------------------------\u001b[0m",
      "\u001b[0;31mUnboundLocalError\u001b[0m                         Traceback (most recent call last)",
      "\u001b[0;32m<ipython-input-131-1277fdd8b5a8>\u001b[0m in \u001b[0;36m<module>\u001b[0;34m\u001b[0m\n\u001b[0;32m----> 1\u001b[0;31m \u001b[0merrs\u001b[0m\u001b[0;34m,\u001b[0m \u001b[0mdurs\u001b[0m \u001b[0;34m=\u001b[0m \u001b[0mrun_kfold_xval\u001b[0m\u001b[0;34m(\u001b[0m\u001b[0mX\u001b[0m\u001b[0;34m,\u001b[0m \u001b[0mcomponents\u001b[0m\u001b[0;34m=\u001b[0m\u001b[0;34m[\u001b[0m\u001b[0;36m15\u001b[0m\u001b[0;34m]\u001b[0m\u001b[0;34m)\u001b[0m\u001b[0;34m\u001b[0m\u001b[0;34m\u001b[0m\u001b[0m\n\u001b[0m",
      "\u001b[0;32m~/bayesmf/scripts/utils.py\u001b[0m in \u001b[0;36mrun_kfold_xval\u001b[0;34m(X, kfold, random_state, components, methods)\u001b[0m\n\u001b[1;32m    108\u001b[0m \u001b[0;34m\u001b[0m\u001b[0m\n\u001b[1;32m    109\u001b[0m                 \u001b[0mstart\u001b[0m \u001b[0;34m=\u001b[0m \u001b[0mtime\u001b[0m\u001b[0;34m.\u001b[0m\u001b[0mtime\u001b[0m\u001b[0;34m(\u001b[0m\u001b[0;34m)\u001b[0m\u001b[0;34m\u001b[0m\u001b[0;34m\u001b[0m\u001b[0m\n\u001b[0;32m--> 110\u001b[0;31m                 \u001b[0merr\u001b[0m \u001b[0;34m=\u001b[0m \u001b[0mworkhorse\u001b[0m\u001b[0;34m(\u001b[0m\u001b[0mX_train\u001b[0m\u001b[0;34m,\u001b[0m \u001b[0mX_test\u001b[0m\u001b[0;34m,\u001b[0m \u001b[0mn_components\u001b[0m\u001b[0;34m,\u001b[0m \u001b[0mmodel\u001b[0m\u001b[0;34m,\u001b[0m \u001b[0malgorithm\u001b[0m\u001b[0;34m)\u001b[0m\u001b[0;34m\u001b[0m\u001b[0;34m\u001b[0m\u001b[0m\n\u001b[0m\u001b[1;32m    111\u001b[0m                 \u001b[0mend\u001b[0m \u001b[0;34m=\u001b[0m \u001b[0mtime\u001b[0m\u001b[0;34m.\u001b[0m\u001b[0mtime\u001b[0m\u001b[0;34m(\u001b[0m\u001b[0;34m)\u001b[0m\u001b[0;34m\u001b[0m\u001b[0;34m\u001b[0m\u001b[0m\n\u001b[1;32m    112\u001b[0m                 \u001b[0mdur\u001b[0m \u001b[0;34m=\u001b[0m \u001b[0mend\u001b[0m \u001b[0;34m-\u001b[0m \u001b[0mstart\u001b[0m\u001b[0;34m\u001b[0m\u001b[0;34m\u001b[0m\u001b[0m\n",
      "\u001b[0;32m~/bayesmf/scripts/utils.py\u001b[0m in \u001b[0;36mworkhorse\u001b[0;34m(X_train, X_test, n_components, model, algorithm, random_state)\u001b[0m\n\u001b[1;32m     73\u001b[0m \u001b[0;34m\u001b[0m\u001b[0m\n\u001b[1;32m     74\u001b[0m     \u001b[0;31m#return np.sqrt(np.sum((X_test.T - np.matmul(W, H)) ** 2) / X_test.size)\u001b[0m\u001b[0;34m\u001b[0m\u001b[0;34m\u001b[0m\u001b[0;34m\u001b[0m\u001b[0m\n\u001b[0;32m---> 75\u001b[0;31m     \u001b[0;32mreturn\u001b[0m \u001b[0mmean_squared_error\u001b[0m\u001b[0;34m(\u001b[0m\u001b[0mX_test\u001b[0m\u001b[0;34m.\u001b[0m\u001b[0mT\u001b[0m\u001b[0;34m,\u001b[0m \u001b[0mnp\u001b[0m\u001b[0;34m.\u001b[0m\u001b[0mmatmul\u001b[0m\u001b[0;34m(\u001b[0m\u001b[0mW\u001b[0m\u001b[0;34m,\u001b[0m \u001b[0mH\u001b[0m\u001b[0;34m)\u001b[0m\u001b[0;34m,\u001b[0m \u001b[0msquared\u001b[0m\u001b[0;34m=\u001b[0m\u001b[0;32mFalse\u001b[0m\u001b[0;34m)\u001b[0m\u001b[0;34m\u001b[0m\u001b[0;34m\u001b[0m\u001b[0m\n\u001b[0m\u001b[1;32m     76\u001b[0m \u001b[0;34m\u001b[0m\u001b[0m\n\u001b[1;32m     77\u001b[0m \u001b[0;34m\u001b[0m\u001b[0m\n",
      "\u001b[0;31mUnboundLocalError\u001b[0m: local variable 'W' referenced before assignment"
     ]
    }
   ],
   "source": [
    "errs, durs = run_kfold_xval(X, components=[15])"
   ]
  },
  {
   "cell_type": "code",
   "execution_count": 130,
   "metadata": {},
   "outputs": [
    {
     "data": {
      "application/vnd.jupyter.widget-view+json": {
       "model_id": "30a2eaf49b55439eb1ae6ce8ddaf72f8",
       "version_major": 2,
       "version_minor": 0
      },
      "text/plain": [
       "HBox(children=(IntProgress(value=0, description='k-soln', max=3, style=ProgressStyle(description_width='initia…"
      ]
     },
     "metadata": {},
     "output_type": "display_data"
    },
    {
     "data": {
      "application/vnd.jupyter.widget-view+json": {
       "model_id": "fea9a2bd610849c9841883f72931e48a",
       "version_major": 2,
       "version_minor": 0
      },
      "text/plain": [
       "HBox(children=(IntProgress(value=0, description='cv', max=5, style=ProgressStyle(description_width='initial'))…"
      ]
     },
     "metadata": {},
     "output_type": "display_data"
    },
    {
     "data": {
      "application/vnd.jupyter.widget-view+json": {
       "model_id": "045235ccb1b64f87bea13d543cfd88b0",
       "version_major": 2,
       "version_minor": 0
      },
      "text/plain": [
       "HBox(children=(IntProgress(value=0, description='method', max=8, style=ProgressStyle(description_width='initia…"
      ]
     },
     "metadata": {},
     "output_type": "display_data"
    },
    {
     "name": "stdout",
     "output_type": "stream",
     "text": [
      "Method: nmf-vanilla, RMSE: 1.197, Dur: 0.149\n",
      "Method: nmf-consensus, RMSE: 1.200, Dur: 8.581\n",
      "Method: lda-batch, RMSE: 2.278, Dur: 10.957\n",
      "Method: lda-stochastic, RMSE: 2.277, Dur: 16.131\n",
      "Method: bmf-batch, RMSE: 1.332, Dur: 0.323\n",
      "Method: bmf-stochastic, RMSE: 1.262, Dur: 2.047\n",
      "Method: cmf-batch, RMSE: 1.537, Dur: 0.717\n",
      "invalid algorithm for cmf\n"
     ]
    },
    {
     "ename": "UnboundLocalError",
     "evalue": "local variable 'W' referenced before assignment",
     "output_type": "error",
     "traceback": [
      "\u001b[0;31m---------------------------------------------------------------------------\u001b[0m",
      "\u001b[0;31mUnboundLocalError\u001b[0m                         Traceback (most recent call last)",
      "\u001b[0;32m<ipython-input-130-cbfa00692437>\u001b[0m in \u001b[0;36m<module>\u001b[0;34m\u001b[0m\n\u001b[0;32m----> 1\u001b[0;31m \u001b[0merrs\u001b[0m\u001b[0;34m,\u001b[0m \u001b[0mdurs\u001b[0m \u001b[0;34m=\u001b[0m \u001b[0mrun_kfold_xval\u001b[0m\u001b[0;34m(\u001b[0m\u001b[0mX\u001b[0m\u001b[0;34m,\u001b[0m \u001b[0mcomponents\u001b[0m\u001b[0;34m=\u001b[0m\u001b[0;34m[\u001b[0m\u001b[0;36m10\u001b[0m\u001b[0;34m,\u001b[0m\u001b[0;36m15\u001b[0m\u001b[0;34m,\u001b[0m\u001b[0;36m20\u001b[0m\u001b[0;34m]\u001b[0m\u001b[0;34m)\u001b[0m\u001b[0;34m\u001b[0m\u001b[0;34m\u001b[0m\u001b[0m\n\u001b[0m",
      "\u001b[0;32m~/bayesmf/scripts/utils.py\u001b[0m in \u001b[0;36mrun_kfold_xval\u001b[0;34m(X, kfold, random_state, components, methods)\u001b[0m\n\u001b[1;32m    108\u001b[0m \u001b[0;34m\u001b[0m\u001b[0m\n\u001b[1;32m    109\u001b[0m                 \u001b[0mstart\u001b[0m \u001b[0;34m=\u001b[0m \u001b[0mtime\u001b[0m\u001b[0;34m.\u001b[0m\u001b[0mtime\u001b[0m\u001b[0;34m(\u001b[0m\u001b[0;34m)\u001b[0m\u001b[0;34m\u001b[0m\u001b[0;34m\u001b[0m\u001b[0m\n\u001b[0;32m--> 110\u001b[0;31m                 \u001b[0merr\u001b[0m \u001b[0;34m=\u001b[0m \u001b[0mworkhorse\u001b[0m\u001b[0;34m(\u001b[0m\u001b[0mX_train\u001b[0m\u001b[0;34m,\u001b[0m \u001b[0mX_test\u001b[0m\u001b[0;34m,\u001b[0m \u001b[0mn_components\u001b[0m\u001b[0;34m,\u001b[0m \u001b[0mmodel\u001b[0m\u001b[0;34m,\u001b[0m \u001b[0malgorithm\u001b[0m\u001b[0;34m)\u001b[0m\u001b[0;34m\u001b[0m\u001b[0;34m\u001b[0m\u001b[0m\n\u001b[0m\u001b[1;32m    111\u001b[0m                 \u001b[0mend\u001b[0m \u001b[0;34m=\u001b[0m \u001b[0mtime\u001b[0m\u001b[0;34m.\u001b[0m\u001b[0mtime\u001b[0m\u001b[0;34m(\u001b[0m\u001b[0;34m)\u001b[0m\u001b[0;34m\u001b[0m\u001b[0;34m\u001b[0m\u001b[0m\n\u001b[1;32m    112\u001b[0m                 \u001b[0mdur\u001b[0m \u001b[0;34m=\u001b[0m \u001b[0mend\u001b[0m \u001b[0;34m-\u001b[0m \u001b[0mstart\u001b[0m\u001b[0;34m\u001b[0m\u001b[0;34m\u001b[0m\u001b[0m\n",
      "\u001b[0;32m~/bayesmf/scripts/utils.py\u001b[0m in \u001b[0;36mworkhorse\u001b[0;34m(X_train, X_test, n_components, model, algorithm, random_state)\u001b[0m\n\u001b[1;32m     73\u001b[0m \u001b[0;34m\u001b[0m\u001b[0m\n\u001b[1;32m     74\u001b[0m     \u001b[0;31m#return np.sqrt(np.sum((X_test.T - np.matmul(W, H)) ** 2) / X_test.size)\u001b[0m\u001b[0;34m\u001b[0m\u001b[0;34m\u001b[0m\u001b[0;34m\u001b[0m\u001b[0m\n\u001b[0;32m---> 75\u001b[0;31m     \u001b[0;32mreturn\u001b[0m \u001b[0mmean_squared_error\u001b[0m\u001b[0;34m(\u001b[0m\u001b[0mX_test\u001b[0m\u001b[0;34m.\u001b[0m\u001b[0mT\u001b[0m\u001b[0;34m,\u001b[0m \u001b[0mnp\u001b[0m\u001b[0;34m.\u001b[0m\u001b[0mmatmul\u001b[0m\u001b[0;34m(\u001b[0m\u001b[0mW\u001b[0m\u001b[0;34m,\u001b[0m \u001b[0mH\u001b[0m\u001b[0;34m)\u001b[0m\u001b[0;34m,\u001b[0m \u001b[0msquared\u001b[0m\u001b[0;34m=\u001b[0m\u001b[0;32mFalse\u001b[0m\u001b[0;34m)\u001b[0m\u001b[0;34m\u001b[0m\u001b[0;34m\u001b[0m\u001b[0m\n\u001b[0m\u001b[1;32m     76\u001b[0m \u001b[0;34m\u001b[0m\u001b[0m\n\u001b[1;32m     77\u001b[0m \u001b[0;34m\u001b[0m\u001b[0m\n",
      "\u001b[0;31mUnboundLocalError\u001b[0m: local variable 'W' referenced before assignment"
     ]
    }
   ],
   "source": [
    "errs, durs = run_kfold_xval(X, components=[10])"
   ]
  },
  {
   "cell_type": "code",
   "execution_count": null,
   "metadata": {},
   "outputs": [],
   "source": [
    "'''V = 100\n",
    "K = 15\n",
    "m = 14\n",
    "D = 1000\n",
    "X = np.random.poisson(0.7, size=(V, D))\n",
    "np.count_nonzero(X==0) / X.size\n",
    "\n",
    "cmf = CMF(K=K, m=m, step_size=0.000001, verbose=True, kwargs={'c0':0.05*V})\n",
    "cmf.fit(X)\n",
    "\n",
    "l = cmf.l\n",
    "W = (cmf.alpha[np.newaxis, :] + np.dot(l, cmf.u.T)).T # K x D -> D x K\n",
    "H = cmf.Eb.T\n",
    "\n",
    "mean_squared_error(X.T, np.matmul(W, H), squared=False)\n",
    "\n",
    "scmf = StochasticCMF(K=K, m=m, minibatch_size=D, verbose=True, kwargs={'kappa':0.0})\n",
    "scmf.fit(X)'''"
   ]
  },
  {
   "cell_type": "code",
   "execution_count": null,
   "metadata": {},
   "outputs": [],
   "source": []
  }
 ],
 "metadata": {
  "kernelspec": {
   "display_name": "Python 3",
   "language": "python",
   "name": "python3"
  },
  "language_info": {
   "codemirror_mode": {
    "name": "ipython",
    "version": 3
   },
   "file_extension": ".py",
   "mimetype": "text/x-python",
   "name": "python",
   "nbconvert_exporter": "python",
   "pygments_lexer": "ipython3",
   "version": "3.6.9"
  }
 },
 "nbformat": 4,
 "nbformat_minor": 4
}
